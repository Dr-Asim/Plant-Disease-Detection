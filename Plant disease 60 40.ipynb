{
 "cells": [
  {
   "cell_type": "code",
   "execution_count": 1,
   "metadata": {},
   "outputs": [
    {
     "name": "stderr",
     "output_type": "stream",
     "text": [
      "Using TensorFlow backend.\n",
      "c:\\python36\\lib\\site-packages\\tensorflow\\python\\framework\\dtypes.py:516: FutureWarning: Passing (type, 1) or '1type' as a synonym of type is deprecated; in a future version of numpy, it will be understood as (type, (1,)) / '(1,)type'.\n",
      "  _np_qint8 = np.dtype([(\"qint8\", np.int8, 1)])\n",
      "c:\\python36\\lib\\site-packages\\tensorflow\\python\\framework\\dtypes.py:517: FutureWarning: Passing (type, 1) or '1type' as a synonym of type is deprecated; in a future version of numpy, it will be understood as (type, (1,)) / '(1,)type'.\n",
      "  _np_quint8 = np.dtype([(\"quint8\", np.uint8, 1)])\n",
      "c:\\python36\\lib\\site-packages\\tensorflow\\python\\framework\\dtypes.py:518: FutureWarning: Passing (type, 1) or '1type' as a synonym of type is deprecated; in a future version of numpy, it will be understood as (type, (1,)) / '(1,)type'.\n",
      "  _np_qint16 = np.dtype([(\"qint16\", np.int16, 1)])\n",
      "c:\\python36\\lib\\site-packages\\tensorflow\\python\\framework\\dtypes.py:519: FutureWarning: Passing (type, 1) or '1type' as a synonym of type is deprecated; in a future version of numpy, it will be understood as (type, (1,)) / '(1,)type'.\n",
      "  _np_quint16 = np.dtype([(\"quint16\", np.uint16, 1)])\n",
      "c:\\python36\\lib\\site-packages\\tensorflow\\python\\framework\\dtypes.py:520: FutureWarning: Passing (type, 1) or '1type' as a synonym of type is deprecated; in a future version of numpy, it will be understood as (type, (1,)) / '(1,)type'.\n",
      "  _np_qint32 = np.dtype([(\"qint32\", np.int32, 1)])\n",
      "c:\\python36\\lib\\site-packages\\tensorflow\\python\\framework\\dtypes.py:525: FutureWarning: Passing (type, 1) or '1type' as a synonym of type is deprecated; in a future version of numpy, it will be understood as (type, (1,)) / '(1,)type'.\n",
      "  np_resource = np.dtype([(\"resource\", np.ubyte, 1)])\n",
      "c:\\python36\\lib\\site-packages\\tensorboard\\compat\\tensorflow_stub\\dtypes.py:541: FutureWarning: Passing (type, 1) or '1type' as a synonym of type is deprecated; in a future version of numpy, it will be understood as (type, (1,)) / '(1,)type'.\n",
      "  _np_qint8 = np.dtype([(\"qint8\", np.int8, 1)])\n",
      "c:\\python36\\lib\\site-packages\\tensorboard\\compat\\tensorflow_stub\\dtypes.py:542: FutureWarning: Passing (type, 1) or '1type' as a synonym of type is deprecated; in a future version of numpy, it will be understood as (type, (1,)) / '(1,)type'.\n",
      "  _np_quint8 = np.dtype([(\"quint8\", np.uint8, 1)])\n",
      "c:\\python36\\lib\\site-packages\\tensorboard\\compat\\tensorflow_stub\\dtypes.py:543: FutureWarning: Passing (type, 1) or '1type' as a synonym of type is deprecated; in a future version of numpy, it will be understood as (type, (1,)) / '(1,)type'.\n",
      "  _np_qint16 = np.dtype([(\"qint16\", np.int16, 1)])\n",
      "c:\\python36\\lib\\site-packages\\tensorboard\\compat\\tensorflow_stub\\dtypes.py:544: FutureWarning: Passing (type, 1) or '1type' as a synonym of type is deprecated; in a future version of numpy, it will be understood as (type, (1,)) / '(1,)type'.\n",
      "  _np_quint16 = np.dtype([(\"quint16\", np.uint16, 1)])\n",
      "c:\\python36\\lib\\site-packages\\tensorboard\\compat\\tensorflow_stub\\dtypes.py:545: FutureWarning: Passing (type, 1) or '1type' as a synonym of type is deprecated; in a future version of numpy, it will be understood as (type, (1,)) / '(1,)type'.\n",
      "  _np_qint32 = np.dtype([(\"qint32\", np.int32, 1)])\n",
      "c:\\python36\\lib\\site-packages\\tensorboard\\compat\\tensorflow_stub\\dtypes.py:550: FutureWarning: Passing (type, 1) or '1type' as a synonym of type is deprecated; in a future version of numpy, it will be understood as (type, (1,)) / '(1,)type'.\n",
      "  np_resource = np.dtype([(\"resource\", np.ubyte, 1)])\n"
     ]
    }
   ],
   "source": [
    "# importing required modules\n",
    "from keras.preprocessing.image import ImageDataGenerator\n",
    "from keras.models import Sequential\n",
    "from sklearn.metrics import classification_report, confusion_matrix\n",
    "from keras.models import load_model\n",
    "from keras.callbacks import EarlyStopping\n",
    "from keras.layers import Activation, Dropout, Flatten, Dense, Conv2D, MaxPooling2D\n",
    "import warnings\n",
    "from keras.callbacks import ModelCheckpoint"
   ]
  },
  {
   "cell_type": "code",
   "execution_count": 2,
   "metadata": {},
   "outputs": [
    {
     "name": "stdout",
     "output_type": "stream",
     "text": [
      "Num GPUs Available:  1\n"
     ]
    }
   ],
   "source": [
    "import tensorflow as tf\n",
    "print(\"Num GPUs Available: \", len(tf.config.experimental.list_physical_devices('GPU')))"
   ]
  },
  {
   "cell_type": "code",
   "execution_count": 3,
   "metadata": {},
   "outputs": [
    {
     "name": "stdout",
     "output_type": "stream",
     "text": [
      "WARNING:tensorflow:From c:\\python36\\lib\\site-packages\\tensorflow\\python\\ops\\init_ops.py:1251: calling VarianceScaling.__init__ (from tensorflow.python.ops.init_ops) with dtype is deprecated and will be removed in a future version.\n",
      "Instructions for updating:\n",
      "Call initializer instance with the dtype argument instead of passing it to the constructor\n",
      "Model: \"sequential\"\n",
      "_________________________________________________________________\n",
      "Layer (type)                 Output Shape              Param #   \n",
      "=================================================================\n",
      "conv2d (Conv2D)              (None, 272, 363, 64)      1792      \n",
      "_________________________________________________________________\n",
      "conv2d_1 (Conv2D)            (None, 272, 363, 64)      36928     \n",
      "_________________________________________________________________\n",
      "max_pooling2d (MaxPooling2D) (None, 136, 181, 64)      0         \n",
      "_________________________________________________________________\n",
      "conv2d_2 (Conv2D)            (None, 136, 181, 128)     73856     \n",
      "_________________________________________________________________\n",
      "max_pooling2d_1 (MaxPooling2 (None, 68, 90, 128)       0         \n",
      "_________________________________________________________________\n",
      "conv2d_3 (Conv2D)            (None, 68, 90, 256)       295168    \n",
      "_________________________________________________________________\n",
      "max_pooling2d_2 (MaxPooling2 (None, 34, 45, 256)       0         \n",
      "_________________________________________________________________\n",
      "conv2d_4 (Conv2D)            (None, 34, 45, 512)       1180160   \n",
      "_________________________________________________________________\n",
      "max_pooling2d_3 (MaxPooling2 (None, 17, 22, 512)       0         \n",
      "_________________________________________________________________\n",
      "conv2d_5 (Conv2D)            (None, 17, 22, 512)       2359808   \n",
      "_________________________________________________________________\n",
      "max_pooling2d_4 (MaxPooling2 (None, 8, 11, 512)        0         \n",
      "_________________________________________________________________\n",
      "flatten (Flatten)            (None, 45056)             0         \n",
      "_________________________________________________________________\n",
      "dense (Dense)                (None, 1024)              46138368  \n",
      "_________________________________________________________________\n",
      "dense_1 (Dense)              (None, 1024)              1049600   \n",
      "_________________________________________________________________\n",
      "dense_2 (Dense)              (None, 25)                25625     \n",
      "=================================================================\n",
      "Total params: 51,161,305\n",
      "Trainable params: 51,161,305\n",
      "Non-trainable params: 0\n",
      "_________________________________________________________________\n"
     ]
    }
   ],
   "source": [
    "# VGG 16 CNN Architecture\n",
    "model = tf.keras.models.Sequential([\n",
    "    # Note the input shape is the desired size of the image 150x150 with 3 bytes color\n",
    "    # This is the first convolution\n",
    "    tf.keras.layers.Conv2D(64, (3,3), padding='same', activation='relu', input_shape=(272, 363, 3)),\n",
    "    tf.keras.layers.Conv2D(64, (3,3), padding='same', activation='relu'),\n",
    "    tf.keras.layers.MaxPooling2D(2, 2),\n",
    "    # The second convolution\n",
    "    tf.keras.layers.Conv2D(128, (3,3), padding='same', activation='relu'),\n",
    "    tf.keras.layers.MaxPooling2D(2, 2),\n",
    "    # The third convolution\n",
    "    tf.keras.layers.Conv2D(256, (3,3), padding='same', activation='relu'),\n",
    "    tf.keras.layers.MaxPooling2D(2, 2),\n",
    "    # The fourth convolution\n",
    "    tf.keras.layers.Conv2D(512, (3,3), padding='same', activation='relu'),\n",
    "    tf.keras.layers.MaxPooling2D(2, 2),\n",
    "    # The Fifth convolution\n",
    "    tf.keras.layers.Conv2D(512, (3,3), padding='same', activation='relu'),\n",
    "    tf.keras.layers.MaxPooling2D(2, 2),\n",
    "    # Flatten the results to feed into a DNN\n",
    "    tf.keras.layers.Flatten(),\n",
    "    # 512 neuron hidden layer\n",
    "    tf.keras.layers.Dense(1024, activation='relu'),\n",
    "    tf.keras.layers.Dense(1024, activation='relu'),\n",
    "    tf.keras.layers.Dense(25, activation='softmax')\n",
    "])\n",
    "\n",
    "\n",
    "model.compile(loss='categorical_crossentropy',\n",
    "              optimizer='adam',\n",
    "              metrics=['accuracy'])\n",
    "\n",
    "model.summary()"
   ]
  },
  {
   "cell_type": "markdown",
   "metadata": {},
   "source": [
    "# "
   ]
  },
  {
   "cell_type": "code",
   "execution_count": null,
   "metadata": {},
   "outputs": [],
   "source": []
  },
  {
   "cell_type": "code",
   "execution_count": 4,
   "metadata": {},
   "outputs": [],
   "source": [
    "#from pathlib import Path\n",
    "\n",
    "#root_dir = path_images\n",
    "#root = Path(root_dir)"
   ]
  },
  {
   "cell_type": "code",
   "execution_count": 5,
   "metadata": {},
   "outputs": [],
   "source": [
    "#rm -rf `find -type d -name .ipynb_checkpoints`"
   ]
  },
  {
   "cell_type": "code",
   "execution_count": 6,
   "metadata": {},
   "outputs": [
    {
     "name": "stdout",
     "output_type": "stream",
     "text": [
      "Found 25414 images belonging to 25 classes.\n",
      "Found 15259 images belonging to 25 classes.\n",
      "Found 10155 images belonging to 25 classes.\n"
     ]
    }
   ],
   "source": [
    "# augmenting the ibput imges\n",
    "image_gen = ImageDataGenerator(width_shift_range=0.1, # Shift the pic width by a max of 10%\n",
    "                               validation_split = 0.4, # Split the Data into 80,20 %\n",
    "                               height_shift_range=0.1, # Shift the pic height by a max of 10%\n",
    "                               rescale=1/255, # Rescale the image by normalzing it.\n",
    "                               zoom_range=0.2, # Zoom in by 20% max\n",
    "                               horizontal_flip=True, # Allow horizontal flipping\n",
    "                               fill_mode='nearest' # Fill in missing pixels with the nearest filled value\n",
    "                              )\n",
    "# initializing paths of input images         \n",
    "path_images = 'Dataset/train'\n",
    "image_gen.flow_from_directory(path_images)\n",
    "#image_gen.flow_from_directory('/home/ec2-user/SageMaker/Training_Data/Corn_Valid_Data')\n",
    "\n",
    "#print(image_gen)\n",
    "\n",
    "batch_size = 32\n",
    "image_shape = (272,363,3)\n",
    "\n",
    "# train on images\n",
    "train_image_gen = image_gen.flow_from_directory(path_images,\n",
    "                                               target_size=image_shape[:2],\n",
    "                                               batch_size=batch_size,\n",
    "                                                shuffle = True,\n",
    "                                                subset='training',\n",
    "                                               class_mode='categorical')\n",
    "\n",
    "valid_image_gen = image_gen.flow_from_directory(path_images,\n",
    "                                                target_size=image_shape[:2],\n",
    "                                               batch_size=batch_size,\n",
    "                                                shuffle = True,\n",
    "                                                subset='validation',\n",
    "                                               class_mode='categorical')"
   ]
  },
  {
   "cell_type": "code",
   "execution_count": 7,
   "metadata": {},
   "outputs": [
    {
     "data": {
      "text/plain": [
       "{'Apple___Apple_scab': 0,\n",
       " 'Apple___Black_rot': 1,\n",
       " 'Apple___Cedar_apple_rust': 2,\n",
       " 'Apple___healthy': 3,\n",
       " 'Grape___Black_rot': 4,\n",
       " 'Grape___Esca_(Black_Measles)': 5,\n",
       " 'Grape___Leaf_blight_(Isariopsis_Leaf_Spot)': 6,\n",
       " 'Grape___healthy': 7,\n",
       " 'Peach___Bacterial_spot': 8,\n",
       " 'Peach___healthy': 9,\n",
       " 'Potato___Early_blight': 10,\n",
       " 'Potato___Late_blight': 11,\n",
       " 'Potato___healthy': 12,\n",
       " 'Strawberry___Leaf_scorch': 13,\n",
       " 'Strawberry___healthy': 14,\n",
       " 'Tomato___Bacterial_spot': 15,\n",
       " 'Tomato___Early_blight': 16,\n",
       " 'Tomato___Late_blight': 17,\n",
       " 'Tomato___Leaf_Mold': 18,\n",
       " 'Tomato___Septoria_leaf_spot': 19,\n",
       " 'Tomato___Spider_mites Two-spotted_spider_mite': 20,\n",
       " 'Tomato___Target_Spot': 21,\n",
       " 'Tomato___Tomato_Yellow_Leaf_Curl_Virus': 22,\n",
       " 'Tomato___Tomato_mosaic_virus': 23,\n",
       " 'Tomato___healthy': 24}"
      ]
     },
     "execution_count": 7,
     "metadata": {},
     "output_type": "execute_result"
    }
   ],
   "source": [
    "valid_image_gen.class_indices"
   ]
  },
  {
   "cell_type": "code",
   "execution_count": 8,
   "metadata": {},
   "outputs": [
    {
     "data": {
      "text/plain": [
       "'C:\\\\Users\\\\Murtaza\\\\Plant_Diseases'"
      ]
     },
     "execution_count": 8,
     "metadata": {},
     "output_type": "execute_result"
    }
   ],
   "source": [
    "pwd"
   ]
  },
  {
   "cell_type": "code",
   "execution_count": 8,
   "metadata": {
    "scrolled": true
   },
   "outputs": [
    {
     "name": "stdout",
     "output_type": "stream",
     "text": [
      "Epoch 1/20\n",
      "476/476 [==============================] - 381s 801ms/step - loss: 2.4172 - acc: 0.2820 - val_loss: 1.7230 - val_acc: 0.4505\n",
      "Epoch 2/20\n",
      "476/476 [==============================] - 370s 778ms/step - loss: 1.5269 - acc: 0.5034 - val_loss: 1.3212 - val_acc: 0.5694\n",
      "Epoch 3/20\n",
      "476/476 [==============================] - 369s 776ms/step - loss: 1.0151 - acc: 0.6619 - val_loss: 0.8354 - val_acc: 0.7270\n",
      "Epoch 4/20\n",
      "476/476 [==============================] - 369s 775ms/step - loss: 0.7433 - acc: 0.7575 - val_loss: 0.6323 - val_acc: 0.7936\n",
      "Epoch 5/20\n",
      "476/476 [==============================] - 368s 774ms/step - loss: 0.5795 - acc: 0.8065 - val_loss: 0.5681 - val_acc: 0.8090\n",
      "Epoch 6/20\n",
      "476/476 [==============================] - 368s 773ms/step - loss: 0.4775 - acc: 0.8375 - val_loss: 0.6454 - val_acc: 0.7861\n",
      "Epoch 7/20\n",
      "476/476 [==============================] - 367s 772ms/step - loss: 0.4086 - acc: 0.8625 - val_loss: 0.4020 - val_acc: 0.8690\n",
      "Epoch 8/20\n",
      "476/476 [==============================] - 367s 771ms/step - loss: 0.3550 - acc: 0.8816 - val_loss: 0.3721 - val_acc: 0.8776\n",
      "Epoch 9/20\n",
      "476/476 [==============================] - 367s 772ms/step - loss: 0.3111 - acc: 0.8956 - val_loss: 0.3298 - val_acc: 0.8898\n",
      "Epoch 10/20\n",
      "476/476 [==============================] - 367s 771ms/step - loss: 0.2759 - acc: 0.9070 - val_loss: 0.3332 - val_acc: 0.8912\n",
      "Epoch 11/20\n",
      "476/476 [==============================] - 367s 771ms/step - loss: 0.2608 - acc: 0.9124 - val_loss: 0.2777 - val_acc: 0.9101\n",
      "Epoch 12/20\n",
      "476/476 [==============================] - 376s 791ms/step - loss: 0.2309 - acc: 0.9223 - val_loss: 0.3394 - val_acc: 0.8914\n",
      "Epoch 13/20\n",
      "476/476 [==============================] - 383s 806ms/step - loss: 0.2175 - acc: 0.9268 - val_loss: 0.2175 - val_acc: 0.9296\n",
      "Epoch 14/20\n",
      "476/476 [==============================] - 375s 788ms/step - loss: 0.2104 - acc: 0.9292 - val_loss: 0.2086 - val_acc: 0.9326\n",
      "Epoch 15/20\n",
      "476/476 [==============================] - 367s 770ms/step - loss: 0.1849 - acc: 0.9360 - val_loss: 0.2134 - val_acc: 0.9295\n",
      "Epoch 16/20\n",
      "476/476 [==============================] - 365s 767ms/step - loss: 0.1826 - acc: 0.9387 - val_loss: 0.2443 - val_acc: 0.9234\n",
      "Epoch 17/20\n",
      "476/476 [==============================] - 364s 766ms/step - loss: 0.1774 - acc: 0.9419 - val_loss: 0.1861 - val_acc: 0.9382\n",
      "Epoch 18/20\n",
      "476/476 [==============================] - 364s 765ms/step - loss: 0.1553 - acc: 0.9485 - val_loss: 0.2095 - val_acc: 0.9320\n",
      "Epoch 19/20\n",
      "476/476 [==============================] - 364s 766ms/step - loss: 0.1550 - acc: 0.9481 - val_loss: 0.1781 - val_acc: 0.9414\n",
      "Epoch 20/20\n",
      "476/476 [==============================] - 371s 780ms/step - loss: 0.1485 - acc: 0.9492 - val_loss: 0.1762 - val_acc: 0.9427\n"
     ]
    }
   ],
   "source": [
    "warnings.filterwarnings('ignore')\n",
    "\n",
    "#es = EarlyStopping(monitor='val_acc', mode='max', verbose=1 , patience = 10)\n",
    "cb = []\n",
    "checkpoint_dir = 'Checkpoints'\n",
    "ckp_saver = ModelCheckpoint(checkpoint_dir + \"/model.{epoch:02d}-{loss:.2f}.h5\", monitor='loss', verbose=0,\n",
    "                                    save_best_only=True,\n",
    "                                    save_weights_only=True, mode='auto', period=10)\n",
    "cb.append(ckp_saver)\n",
    "\n",
    "\n",
    "results = model.fit_generator(train_image_gen,epochs=20,\n",
    "                              steps_per_epoch=train_image_gen.samples//batch_size,\n",
    "                              validation_data=valid_image_gen,\n",
    "                             validation_steps=valid_image_gen.samples//batch_size,\n",
    "                             callbacks=cb)\n",
    "model.save('Plant_Classifier60.h5')"
   ]
  },
  {
   "cell_type": "code",
   "execution_count": 43,
   "metadata": {},
   "outputs": [],
   "source": []
  },
  {
   "cell_type": "code",
   "execution_count": 20,
   "metadata": {},
   "outputs": [
    {
     "data": {
      "image/png": "[encoded data removed]",
      "text/plain": [
       "<Figure size 432x288 with 1 Axes>"
      ]
     },
     "metadata": {
      "needs_background": "light"
     },
     "output_type": "display_data"
    },
    {
     "data": {
      "image/png": "[encoded data removed]",
      "text/plain": [
       "<Figure size 432x288 with 1 Axes>"
      ]
     },
     "metadata": {
      "needs_background": "light"
     },
     "output_type": "display_data"
    }
   ],
   "source": [
    "\n",
    "import matplotlib.pyplot as plt\n",
    "acc = results.history['acc']\n",
    "val_acc = results.history['val_acc']\n",
    "loss = results.history['loss']\n",
    "val_loss = results.history['val_loss']\n",
    "\n",
    "epochs = range(len(acc))\n",
    "\n",
    "plt.plot(epochs, acc, 'blue', label='Training accuracy')\n",
    "plt.plot(epochs, val_acc, 'orange', label='Validation accuracy')\n",
    "plt.title('Training and validation accuracy')\n",
    "plt.legend(loc=0)\n",
    "plt.figure()\n",
    "\n",
    "\n",
    "plt.plot(epochs, loss, 'blue', label='Training Loss')\n",
    "plt.plot(epochs, val_loss, 'orange', label='Validation Loss')\n",
    "plt.title('Training and validation loss')\n",
    "plt.legend()\n",
    "\n",
    "\n",
    "plt.show()"
   ]
  },
  {
   "cell_type": "code",
   "execution_count": null,
   "metadata": {},
   "outputs": [],
   "source": []
  },
  {
   "cell_type": "code",
   "execution_count": 15,
   "metadata": {
    "collapsed": true
   },
   "outputs": [
    {
     "ename": "KeyError",
     "evalue": "'acc'",
     "output_type": "error",
     "traceback": [
      "\u001b[1;31m---------------------------------------------------------------------------\u001b[0m",
      "\u001b[1;31mKeyError\u001b[0m                                  Traceback (most recent call last)",
      "\u001b[1;32m<ipython-input-15-0228d2b0a3d6>\u001b[0m in \u001b[0;36m<module>\u001b[1;34m\u001b[0m\n\u001b[0;32m     19\u001b[0m     \u001b[0mplt\u001b[0m\u001b[1;33m.\u001b[0m\u001b[0mclose\u001b[0m\u001b[1;33m(\u001b[0m\u001b[1;33m)\u001b[0m\u001b[1;33m\u001b[0m\u001b[1;33m\u001b[0m\u001b[0m\n\u001b[0;32m     20\u001b[0m \u001b[1;33m\u001b[0m\u001b[0m\n\u001b[1;32m---> 21\u001b[1;33m \u001b[0msummarize_diagnostics\u001b[0m\u001b[1;33m(\u001b[0m\u001b[0mresults\u001b[0m\u001b[1;33m)\u001b[0m\u001b[1;33m\u001b[0m\u001b[1;33m\u001b[0m\u001b[0m\n\u001b[0m",
      "\u001b[1;32m<ipython-input-15-0228d2b0a3d6>\u001b[0m in \u001b[0;36msummarize_diagnostics\u001b[1;34m(history)\u001b[0m\n\u001b[0;32m     12\u001b[0m     \u001b[0mplt\u001b[0m\u001b[1;33m.\u001b[0m\u001b[0msubplot\u001b[0m\u001b[1;33m(\u001b[0m\u001b[1;36m212\u001b[0m\u001b[1;33m)\u001b[0m\u001b[1;33m\u001b[0m\u001b[1;33m\u001b[0m\u001b[0m\n\u001b[0;32m     13\u001b[0m     \u001b[0mplt\u001b[0m\u001b[1;33m.\u001b[0m\u001b[0mtitle\u001b[0m\u001b[1;33m(\u001b[0m\u001b[1;34m\"Classification Accuracy\"\u001b[0m\u001b[1;33m)\u001b[0m\u001b[1;33m\u001b[0m\u001b[1;33m\u001b[0m\u001b[0m\n\u001b[1;32m---> 14\u001b[1;33m     \u001b[0mplt\u001b[0m\u001b[1;33m.\u001b[0m\u001b[0mplot\u001b[0m\u001b[1;33m(\u001b[0m\u001b[0mhistory\u001b[0m\u001b[1;33m.\u001b[0m\u001b[0mhistory\u001b[0m\u001b[1;33m[\u001b[0m\u001b[1;34m\"acc\"\u001b[0m\u001b[1;33m]\u001b[0m\u001b[1;33m,\u001b[0m \u001b[0mcolor\u001b[0m\u001b[1;33m=\u001b[0m\u001b[1;34m\"blue\"\u001b[0m\u001b[1;33m,\u001b[0m \u001b[0mlabel\u001b[0m\u001b[1;33m=\u001b[0m\u001b[1;34m\"train\"\u001b[0m\u001b[1;33m)\u001b[0m\u001b[1;33m\u001b[0m\u001b[1;33m\u001b[0m\u001b[0m\n\u001b[0m\u001b[0;32m     15\u001b[0m     \u001b[0mplt\u001b[0m\u001b[1;33m.\u001b[0m\u001b[0mplot\u001b[0m\u001b[1;33m(\u001b[0m\u001b[0mhistory\u001b[0m\u001b[1;33m.\u001b[0m\u001b[0mhistory\u001b[0m\u001b[1;33m[\u001b[0m\u001b[1;34m\"val_acc\"\u001b[0m\u001b[1;33m]\u001b[0m\u001b[1;33m,\u001b[0m \u001b[0mcolor\u001b[0m\u001b[1;33m=\u001b[0m\u001b[1;34m\"orange\"\u001b[0m\u001b[1;33m,\u001b[0m \u001b[0mlabel\u001b[0m\u001b[1;33m=\u001b[0m\u001b[1;34m\"test\"\u001b[0m\u001b[1;33m)\u001b[0m\u001b[1;33m\u001b[0m\u001b[1;33m\u001b[0m\u001b[0m\n\u001b[0;32m     16\u001b[0m     \u001b[0mplt\u001b[0m\u001b[1;33m.\u001b[0m\u001b[0mlegend\u001b[0m\u001b[1;33m(\u001b[0m\u001b[1;33m)\u001b[0m\u001b[1;33m\u001b[0m\u001b[1;33m\u001b[0m\u001b[0m\n",
      "\u001b[1;31mKeyError\u001b[0m: 'acc'"
     ]
    },
    {
     "data": {
      "image/png": "[encoded data removed]",
      "text/plain": [
       "<Figure size 432x288 with 2 Axes>"
      ]
     },
     "metadata": {
      "needs_background": "light"
     },
     "output_type": "display_data"
    }
   ],
   "source": [
    "import matplotlib.pyplot as plt\n",
    "\n",
    "def summarize_diagnostics(history):\n",
    "    # plot loss\n",
    "    plt.subplot(211)\n",
    "    plt.title(\"Cross Entropy Loss\")\n",
    "    plt.plot(history.history[\"loss\"], color=\"blue\", label=\"train\")\n",
    "    plt.plot(history.history[\"val_loss\"], color=\"orange\", label=\"test\")\n",
    "    plt.legend()\n",
    "    # plot accuracy\n",
    "    plt.tight_layout()\n",
    "    plt.subplot(212)\n",
    "    plt.title(\"Classification Accuracy\")\n",
    "    plt.plot(history.history[\"acc\"], color=\"blue\", label=\"train\")\n",
    "    plt.plot(history.history[\"val_acc\"], color=\"orange\", label=\"test\")\n",
    "    plt.legend()\n",
    "    # save plot to file\n",
    "    plt.savefig(\"Model Performance.png\")\n",
    "    plt.close()\n",
    "    \n",
    "summarize_diagnostics(results)"
   ]
  },
  {
   "cell_type": "code",
   "execution_count": 20,
   "metadata": {},
   "outputs": [
    {
     "name": "stdout",
     "output_type": "stream",
     "text": [
      "_________________________________________________________________\n",
      "Layer (type)                 Output Shape              Param #   \n",
      "=================================================================\n",
      "conv2d_11 (Conv2D)           (None, 270, 361, 16)      448       \n",
      "_________________________________________________________________\n",
      "max_pooling2d_11 (MaxPooling (None, 135, 180, 16)      0         \n",
      "_________________________________________________________________\n",
      "conv2d_12 (Conv2D)           (None, 133, 178, 16)      2320      \n",
      "_________________________________________________________________\n",
      "max_pooling2d_12 (MaxPooling (None, 66, 89, 16)        0         \n",
      "_________________________________________________________________\n",
      "flatten_5 (Flatten)          (None, 93984)             0         \n",
      "_________________________________________________________________\n",
      "dense_15 (Dense)             (None, 256)               24060160  \n",
      "_________________________________________________________________\n",
      "activation_15 (Activation)   (None, 256)               0         \n",
      "_________________________________________________________________\n",
      "dropout_9 (Dropout)          (None, 256)               0         \n",
      "_________________________________________________________________\n",
      "dense_16 (Dense)             (None, 128)               32896     \n",
      "_________________________________________________________________\n",
      "activation_16 (Activation)   (None, 128)               0         \n",
      "_________________________________________________________________\n",
      "dropout_10 (Dropout)         (None, 128)               0         \n",
      "_________________________________________________________________\n",
      "dense_17 (Dense)             (None, 6)                 774       \n",
      "_________________________________________________________________\n",
      "activation_17 (Activation)   (None, 6)                 0         \n",
      "=================================================================\n",
      "Total params: 24,096,598\n",
      "Trainable params: 24,096,598\n",
      "Non-trainable params: 0\n",
      "_________________________________________________________________\n"
     ]
    }
   ],
   "source": [
    "#loaded_model = load_model('Plant_Classifier.h5')\n",
    "#loaded_model.layers[0].input_shape #(None, 160, 160, 3)\n",
    "#loaded_model.summary()"
   ]
  },
  {
   "cell_type": "code",
   "execution_count": 16,
   "metadata": {},
   "outputs": [
    {
     "name": "stdout",
     "output_type": "stream",
     "text": [
      "Found 6353 images belonging to 25 classes.\n"
     ]
    }
   ],
   "source": [
    "test_datagen = ImageDataGenerator(rescale=1. / 255)\n",
    "test_generator = test_datagen.flow_from_directory('Dataset/val',\n",
    "                                                        target_size=image_shape[:2],\n",
    "                                                        batch_size=batch_size,\n",
    "                                                        shuffle = False,\n",
    "                                                        class_mode='categorical')"
   ]
  },
  {
   "cell_type": "code",
   "execution_count": 17,
   "metadata": {},
   "outputs": [
    {
     "name": "stdout",
     "output_type": "stream",
     "text": [
      "Confusion Matrix\n",
      "[[  91    4    2    5    0    0    0    0    8    0    1    5    1    0\n",
      "     3    1    0    2    0    1    0    2    0    0    0]\n",
      " [   1  123    0    0    0    0    0    0    0    0    1    0    0    0\n",
      "     0    0    0    0    0    0    0    0    0    0    0]\n",
      " [   0    0   48    0    0    0    2    0    0    0    3    1    0    0\n",
      "     0    0    0    1    0    0    0    0    0    0    0]\n",
      " [   1    0    4  314    0    0    0    0    1    0    0    1    1    0\n",
      "     0    0    0    0    0    0    5    2    0    0    0]\n",
      " [   0    0    0    0  227    6    3    0    0    0    0    0    0    0\n",
      "     0    0    0    0    0    0    0    0    0    0    0]\n",
      " [   0    0    0    0    1  275    0    0    0    0    0    0    0    0\n",
      "     0    0    0    0    0    0    0    0    0    0    0]\n",
      " [   0    0    0    0    0    0  215    0    0    0    0    0    0    0\n",
      "     0    0    0    0    0    0    0    0    0    0    0]\n",
      " [   0    0    0    0    0    0    0   84    0    0    0    0    0    0\n",
      "     0    0    0    0    0    0    0    0    0    0    0]\n",
      " [   3    0    2    1    0    0    0    0  449    1    2    1    0    0\n",
      "     0    0    0    0    0    0    0    0    0    0    0]\n",
      " [   0    0    0    0    0    0    0    0    2   70    0    0    0    0\n",
      "     0    0    0    0    0    0    0    0    0    0    0]\n",
      " [   0    0    1    0    0    0    0    0    0    0  199    0    0    0\n",
      "     0    0    0    0    0    0    0    0    0    0    0]\n",
      " [   1    0    0    0    0    0    0    0    0    0    4  186    0    0\n",
      "     0    0    0    9    0    0    0    0    0    0    0]\n",
      " [   0    0    0    0    0    0    0    0    0    0    0    0   28    0\n",
      "     1    0    0    0    0    0    0    2    0    0    0]\n",
      " [   0    0    0    0    0    0    2    0    0    0    2    0    0  218\n",
      "     0    0    0    0    0    0    0    0    0    0    0]\n",
      " [   0    1    0    0    0    0    0    0    0    0    1    0    0    0\n",
      "    90    0    0    0    0    0    0    0    0    0    0]\n",
      " [   0    0    1    0    0    0    2    1    4    0    0    0    0    0\n",
      "     0  393    2    1    0    7    0    1   13    0    0]\n",
      " [   0    0    0    1    1    0    2    0    2    0    1    1    0    0\n",
      "     0   13  165    2    0    6    0    3    2    0    1]\n",
      " [   0    0    3    1    0    2    0    1    3    0   10    6    0    0\n",
      "     0    0    8  340    0    3    3    1    1    0    0]\n",
      " [   2    0    0    1    0    0    0    0    4    0    0    0    0    0\n",
      "     0    0    0    0  169    9    2    2    1    0    1]\n",
      " [   0    0    0    0    0    0    0    0    0    0    0    0    0    0\n",
      "     0    0    0    0    0  353    0    1    0    0    0]\n",
      " [   0    0    0    1    0    0    0    0    0    0    0    0    0    0\n",
      "     0    0    0    0    0    2  321   11    0    0    0]\n",
      " [   0    0    0    0    0    1    0    0    0    0    0    0    0    0\n",
      "     0    0    0    0    0    6    7  264    0    0    3]\n",
      " [   0    0    2    0    0    0    0    0    0    0    0    2    0    0\n",
      "     0    0    0    0    0    0    3    0 1064    0    0]\n",
      " [   0    0    0    0    0    0    0    0    1    0    0    0    0    0\n",
      "     0    0    0    0    4   11    3    0    0   55    0]\n",
      " [   0    0    0    0    0    0    0    0    0    0    0    0    0    0\n",
      "     0    0    0    0    0    0    1    1    0    0  316]]\n",
      "Classification Report\n",
      "              precision    recall  f1-score   support\n",
      "\n",
      "           0       0.92      0.72      0.81       126\n",
      "           1       0.96      0.98      0.97       125\n",
      "           2       0.76      0.87      0.81        55\n",
      "           3       0.97      0.95      0.96       329\n",
      "           4       0.99      0.96      0.98       236\n",
      "           5       0.97      1.00      0.98       276\n",
      "           6       0.95      1.00      0.98       215\n",
      "           7       0.98      1.00      0.99        84\n",
      "           8       0.95      0.98      0.96       459\n",
      "           9       0.99      0.97      0.98        72\n",
      "          10       0.89      0.99      0.94       200\n",
      "          11       0.92      0.93      0.92       200\n",
      "          12       0.93      0.90      0.92        31\n",
      "          13       1.00      0.98      0.99       222\n",
      "          14       0.96      0.98      0.97        92\n",
      "          15       0.97      0.92      0.94       425\n",
      "          16       0.94      0.82      0.88       200\n",
      "          17       0.96      0.89      0.92       382\n",
      "          18       0.98      0.88      0.93       191\n",
      "          19       0.89      1.00      0.94       354\n",
      "          20       0.93      0.96      0.94       335\n",
      "          21       0.91      0.94      0.92       281\n",
      "          22       0.98      0.99      0.99      1071\n",
      "          23       1.00      0.74      0.85        74\n",
      "          24       0.98      0.99      0.99       318\n",
      "\n",
      "    accuracy                           0.95      6353\n",
      "   macro avg       0.95      0.94      0.94      6353\n",
      "weighted avg       0.95      0.95      0.95      6353\n",
      "\n"
     ]
    }
   ],
   "source": [
    "import numpy as np\n",
    "test_generator.reset()\n",
    "Y_pred = model.predict_generator(test_generator, 6353 // batch_size+1)\n",
    "y_pred = np.argmax(Y_pred, axis=1)\n",
    "print('Confusion Matrix')\n",
    "print(confusion_matrix(test_generator.classes, y_pred))\n",
    "print('Classification Report')\n",
    "#target_names = ['cup_cakes', 'french_fries', 'greek_salad' , 'hamburger' , 'pizza' , 'steak']\n",
    "print(classification_report(test_generator.classes, y_pred))"
   ]
  },
  {
   "cell_type": "code",
   "execution_count": 18,
   "metadata": {},
   "outputs": [],
   "source": [
    "from sklearn.metrics import plot_confusion_matrix\n",
    "import numpy as np\n",
    "import seaborn as sn\n",
    "import pandas as pd\n",
    "import matplotlib.pyplot as plt"
   ]
  },
  {
   "cell_type": "code",
   "execution_count": null,
   "metadata": {},
   "outputs": [
    {
     "data": {
      "text/plain": [
       "<matplotlib.axes._subplots.AxesSubplot at 0x1ab5b5bd780>"
      ]
     },
     "execution_count": 43,
     "metadata": {},
     "output_type": "execute_result"
    }
   ],
   "source": [
    "from sklearn.metrics import plot_confusion_matrix\n",
    "import numpy as np\n",
    "import seaborn as sn\n",
    "import pandas as pd\n",
    "import matplotlib.pyplot as plt\n",
    "\n",
    "data = confusion_matrix(test_generator.classes, y_pred)\n",
    "df_cm = pd.DataFrame(data, columns=np.unique(test_generator.classes), index = np.unique(test_generator.classes))\n",
    "df_cm.index.name = 'Actual'\n",
    "df_cm.columns.name = 'Predicted'\n",
    "plt.figure(figsize = (20,20))\n",
    "sn.set(font_scale=1.4)#for label size\n",
    "sn.heatmap(df_cm, cmap=\"Blues\", annot=True,annot_kws={\"size\": 16})# font size"
   ]
  },
  {
   "cell_type": "code",
   "execution_count": 41,
   "metadata": {},
   "outputs": [
    {
     "data": {
      "image/png": "[encoded data removed]",
      "text/plain": [
       "<Figure size 432x288 with 2 Axes>"
      ]
     },
     "metadata": {},
     "output_type": "display_data"
    }
   ],
   "source": [
    "def Confusion_Matrix_Built_IN():\n",
    "\n",
    "    CM = confusion_matrix(test_generator.classes, y_pred)\n",
    "    #print(CM)\n",
    "    df_cm = pd.DataFrame(CM, range(25), range(25))\n",
    "\n",
    "    \n",
    "    sn.heatmap(df_cm,vmin=20,vmax=max(CM.diagonal()),linewidth=.5 ,annot=True,fmt=\"d\",xticklabels=True, yticklabels=True)# font size\n",
    "    \n",
    "    plt.show()\n",
    "\n",
    "Confusion_Matrix_Built_IN()"
   ]
  },
  {
   "cell_type": "code",
   "execution_count": null,
   "metadata": {},
   "outputs": [],
   "source": []
  },
  {
   "cell_type": "code",
   "execution_count": 71,
   "metadata": {},
   "outputs": [],
   "source": [
    "test_score = model.evaluate_generator(test_generator , 1200 // batch_size)"
   ]
  },
  {
   "cell_type": "code",
   "execution_count": 72,
   "metadata": {},
   "outputs": [
    {
     "data": {
      "text/plain": [
       "[0.9690494214495023, 0.71]"
      ]
     },
     "execution_count": 72,
     "metadata": {},
     "output_type": "execute_result"
    }
   ],
   "source": [
    "test_score"
   ]
  },
  {
   "cell_type": "code",
   "execution_count": 73,
   "metadata": {},
   "outputs": [
    {
     "data": {
      "text/plain": [
       "[0.8750278802767192, 0.7191780821917808]"
      ]
     },
     "execution_count": 73,
     "metadata": {},
     "output_type": "execute_result"
    }
   ],
   "source": [
    "validation_score = model.evaluate_generator(valid_image_gen , 600 // 16)\n",
    "validation_score"
   ]
  },
  {
   "cell_type": "code",
   "execution_count": 74,
   "metadata": {},
   "outputs": [
    {
     "data": {
      "text/plain": [
       "[0.5369298159791225, 0.8095124282982792]"
      ]
     },
     "execution_count": 74,
     "metadata": {},
     "output_type": "execute_result"
    }
   ],
   "source": [
    "training_score = model.evaluate_generator(train_image_gen , 4200 // 16)\n",
    "training_score"
   ]
  },
  {
   "cell_type": "code",
   "execution_count": 22,
   "metadata": {},
   "outputs": [],
   "source": [
    "loss_model = results.history[\"loss\"]\n",
    "acc_model = results.history[\"acc\"]"
   ]
  },
  {
   "cell_type": "code",
   "execution_count": 23,
   "metadata": {},
   "outputs": [
    {
     "data": {
      "text/plain": [
       "[2.417239946976755,\n",
       " 1.5269251696395023,\n",
       " 1.0150997633613665,\n",
       " 0.7433301984477029,\n",
       " 0.579484785562931,\n",
       " 0.4774309474718722,\n",
       " 0.4085401171237209,\n",
       " 0.3550564682752984,\n",
       " 0.311185090753374,\n",
       " 0.27585088979464345,\n",
       " 0.2608554669572495,\n",
       " 0.2308845411580727,\n",
       " 0.2174850416906071,\n",
       " 0.21032773136481944,\n",
       " 0.1849358021349856,\n",
       " 0.1826268197575816,\n",
       " 0.17740769040492968,\n",
       " 0.15514986839901637,\n",
       " 0.15500115847687598,\n",
       " 0.148461742933717]"
      ]
     },
     "execution_count": 23,
     "metadata": {},
     "output_type": "execute_result"
    }
   ],
   "source": [
    "loss_model"
   ]
  },
  {
   "cell_type": "code",
   "execution_count": 24,
   "metadata": {},
   "outputs": [
    {
     "data": {
      "text/plain": [
       "[0.28199908,\n",
       " 0.50344783,\n",
       " 0.66185063,\n",
       " 0.7574703,\n",
       " 0.8064622,\n",
       " 0.8374598,\n",
       " 0.8624811,\n",
       " 0.8815919,\n",
       " 0.89558023,\n",
       " 0.9070073,\n",
       " 0.91239244,\n",
       " 0.92230904,\n",
       " 0.9267748,\n",
       " 0.9292047,\n",
       " 0.935969,\n",
       " 0.93872726,\n",
       " 0.9418796,\n",
       " 0.9485125,\n",
       " 0.9480528,\n",
       " 0.9492349]"
      ]
     },
     "execution_count": 24,
     "metadata": {},
     "output_type": "execute_result"
    }
   ],
   "source": [
    "acc_model"
   ]
  },
  {
   "cell_type": "code",
   "execution_count": null,
   "metadata": {},
   "outputs": [],
   "source": []
  }
 ],
 "metadata": {
  "kernelspec": {
   "display_name": "Python 3",
   "language": "python",
   "name": "python3"
  },
  "language_info": {
   "codemirror_mode": {
    "name": "ipython",
    "version": 3
   },
   "file_extension": ".py",
   "mimetype": "text/x-python",
   "name": "python",
   "nbconvert_exporter": "python",
   "pygments_lexer": "ipython3",
   "version": "3.6.8"
  }
 },
 "nbformat": 4,
 "nbformat_minor": 2
}
