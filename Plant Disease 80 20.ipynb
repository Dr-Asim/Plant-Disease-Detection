{
 "cells": [
  {
   "cell_type": "code",
   "execution_count": 1,
   "metadata": {},
   "outputs": [
    {
     "name": "stderr",
     "output_type": "stream",
     "text": [
      "Using TensorFlow backend.\n",
      "c:\\python36\\lib\\site-packages\\tensorflow\\python\\framework\\dtypes.py:516: FutureWarning: Passing (type, 1) or '1type' as a synonym of type is deprecated; in a future version of numpy, it will be understood as (type, (1,)) / '(1,)type'.\n",
      "  _np_qint8 = np.dtype([(\"qint8\", np.int8, 1)])\n",
      "c:\\python36\\lib\\site-packages\\tensorflow\\python\\framework\\dtypes.py:517: FutureWarning: Passing (type, 1) or '1type' as a synonym of type is deprecated; in a future version of numpy, it will be understood as (type, (1,)) / '(1,)type'.\n",
      "  _np_quint8 = np.dtype([(\"quint8\", np.uint8, 1)])\n",
      "c:\\python36\\lib\\site-packages\\tensorflow\\python\\framework\\dtypes.py:518: FutureWarning: Passing (type, 1) or '1type' as a synonym of type is deprecated; in a future version of numpy, it will be understood as (type, (1,)) / '(1,)type'.\n",
      "  _np_qint16 = np.dtype([(\"qint16\", np.int16, 1)])\n",
      "c:\\python36\\lib\\site-packages\\tensorflow\\python\\framework\\dtypes.py:519: FutureWarning: Passing (type, 1) or '1type' as a synonym of type is deprecated; in a future version of numpy, it will be understood as (type, (1,)) / '(1,)type'.\n",
      "  _np_quint16 = np.dtype([(\"quint16\", np.uint16, 1)])\n",
      "c:\\python36\\lib\\site-packages\\tensorflow\\python\\framework\\dtypes.py:520: FutureWarning: Passing (type, 1) or '1type' as a synonym of type is deprecated; in a future version of numpy, it will be understood as (type, (1,)) / '(1,)type'.\n",
      "  _np_qint32 = np.dtype([(\"qint32\", np.int32, 1)])\n",
      "c:\\python36\\lib\\site-packages\\tensorflow\\python\\framework\\dtypes.py:525: FutureWarning: Passing (type, 1) or '1type' as a synonym of type is deprecated; in a future version of numpy, it will be understood as (type, (1,)) / '(1,)type'.\n",
      "  np_resource = np.dtype([(\"resource\", np.ubyte, 1)])\n",
      "c:\\python36\\lib\\site-packages\\tensorboard\\compat\\tensorflow_stub\\dtypes.py:541: FutureWarning: Passing (type, 1) or '1type' as a synonym of type is deprecated; in a future version of numpy, it will be understood as (type, (1,)) / '(1,)type'.\n",
      "  _np_qint8 = np.dtype([(\"qint8\", np.int8, 1)])\n",
      "c:\\python36\\lib\\site-packages\\tensorboard\\compat\\tensorflow_stub\\dtypes.py:542: FutureWarning: Passing (type, 1) or '1type' as a synonym of type is deprecated; in a future version of numpy, it will be understood as (type, (1,)) / '(1,)type'.\n",
      "  _np_quint8 = np.dtype([(\"quint8\", np.uint8, 1)])\n",
      "c:\\python36\\lib\\site-packages\\tensorboard\\compat\\tensorflow_stub\\dtypes.py:543: FutureWarning: Passing (type, 1) or '1type' as a synonym of type is deprecated; in a future version of numpy, it will be understood as (type, (1,)) / '(1,)type'.\n",
      "  _np_qint16 = np.dtype([(\"qint16\", np.int16, 1)])\n",
      "c:\\python36\\lib\\site-packages\\tensorboard\\compat\\tensorflow_stub\\dtypes.py:544: FutureWarning: Passing (type, 1) or '1type' as a synonym of type is deprecated; in a future version of numpy, it will be understood as (type, (1,)) / '(1,)type'.\n",
      "  _np_quint16 = np.dtype([(\"quint16\", np.uint16, 1)])\n",
      "c:\\python36\\lib\\site-packages\\tensorboard\\compat\\tensorflow_stub\\dtypes.py:545: FutureWarning: Passing (type, 1) or '1type' as a synonym of type is deprecated; in a future version of numpy, it will be understood as (type, (1,)) / '(1,)type'.\n",
      "  _np_qint32 = np.dtype([(\"qint32\", np.int32, 1)])\n",
      "c:\\python36\\lib\\site-packages\\tensorboard\\compat\\tensorflow_stub\\dtypes.py:550: FutureWarning: Passing (type, 1) or '1type' as a synonym of type is deprecated; in a future version of numpy, it will be understood as (type, (1,)) / '(1,)type'.\n",
      "  np_resource = np.dtype([(\"resource\", np.ubyte, 1)])\n"
     ]
    }
   ],
   "source": [
    "# importing required modules\n",
    "from keras.preprocessing.image import ImageDataGenerator\n",
    "from keras.models import Sequential\n",
    "from sklearn.metrics import classification_report, confusion_matrix\n",
    "from keras.models import load_model\n",
    "from keras.callbacks import EarlyStopping\n",
    "from keras.layers import Activation, Dropout, Flatten, Dense, Conv2D, MaxPooling2D\n",
    "import warnings\n",
    "from keras.callbacks import ModelCheckpoint"
   ]
  },
  {
   "cell_type": "code",
   "execution_count": 2,
   "metadata": {},
   "outputs": [],
   "source": [
    "import tensorflow as tf"
   ]
  },
  {
   "cell_type": "code",
   "execution_count": 3,
   "metadata": {},
   "outputs": [
    {
     "name": "stdout",
     "output_type": "stream",
     "text": [
      "WARNING:tensorflow:From c:\\python36\\lib\\site-packages\\tensorflow\\python\\ops\\init_ops.py:1251: calling VarianceScaling.__init__ (from tensorflow.python.ops.init_ops) with dtype is deprecated and will be removed in a future version.\n",
      "Instructions for updating:\n",
      "Call initializer instance with the dtype argument instead of passing it to the constructor\n",
      "Model: \"sequential\"\n",
      "_________________________________________________________________\n",
      "Layer (type)                 Output Shape              Param #   \n",
      "=================================================================\n",
      "conv2d (Conv2D)              (None, 272, 363, 64)      1792      \n",
      "_________________________________________________________________\n",
      "conv2d_1 (Conv2D)            (None, 272, 363, 64)      36928     \n",
      "_________________________________________________________________\n",
      "max_pooling2d (MaxPooling2D) (None, 136, 181, 64)      0         \n",
      "_________________________________________________________________\n",
      "conv2d_2 (Conv2D)            (None, 136, 181, 128)     73856     \n",
      "_________________________________________________________________\n",
      "max_pooling2d_1 (MaxPooling2 (None, 68, 90, 128)       0         \n",
      "_________________________________________________________________\n",
      "conv2d_3 (Conv2D)            (None, 68, 90, 256)       295168    \n",
      "_________________________________________________________________\n",
      "max_pooling2d_2 (MaxPooling2 (None, 34, 45, 256)       0         \n",
      "_________________________________________________________________\n",
      "conv2d_4 (Conv2D)            (None, 34, 45, 512)       1180160   \n",
      "_________________________________________________________________\n",
      "max_pooling2d_3 (MaxPooling2 (None, 17, 22, 512)       0         \n",
      "_________________________________________________________________\n",
      "conv2d_5 (Conv2D)            (None, 17, 22, 512)       2359808   \n",
      "_________________________________________________________________\n",
      "max_pooling2d_4 (MaxPooling2 (None, 8, 11, 512)        0         \n",
      "_________________________________________________________________\n",
      "flatten (Flatten)            (None, 45056)             0         \n",
      "_________________________________________________________________\n",
      "dense (Dense)                (None, 1024)              46138368  \n",
      "_________________________________________________________________\n",
      "dense_1 (Dense)              (None, 1024)              1049600   \n",
      "_________________________________________________________________\n",
      "dense_2 (Dense)              (None, 25)                25625     \n",
      "=================================================================\n",
      "Total params: 51,161,305\n",
      "Trainable params: 51,161,305\n",
      "Non-trainable params: 0\n",
      "_________________________________________________________________\n"
     ]
    }
   ],
   "source": [
    "# VGG 16 CNN Architecture\n",
    "model = tf.keras.models.Sequential([\n",
    "    # Note the input shape is the desired size of the image 150x150 with 3 bytes color\n",
    "    # This is the first convolution\n",
    "    tf.keras.layers.Conv2D(64, (3,3), padding='same', activation='relu', input_shape=(272, 363, 3)),\n",
    "    tf.keras.layers.Conv2D(64, (3,3), padding='same', activation='relu'),\n",
    "    tf.keras.layers.MaxPooling2D(2, 2),\n",
    "    # The second convolution\n",
    "    tf.keras.layers.Conv2D(128, (3,3), padding='same', activation='relu'),\n",
    "    tf.keras.layers.MaxPooling2D(2, 2),\n",
    "    # The third convolution\n",
    "    tf.keras.layers.Conv2D(256, (3,3), padding='same', activation='relu'),\n",
    "    tf.keras.layers.MaxPooling2D(2, 2),\n",
    "    # The fourth convolution\n",
    "    tf.keras.layers.Conv2D(512, (3,3), padding='same', activation='relu'),\n",
    "    tf.keras.layers.MaxPooling2D(2, 2),\n",
    "    # The Fifth convolution\n",
    "    tf.keras.layers.Conv2D(512, (3,3), padding='same', activation='relu'),\n",
    "    tf.keras.layers.MaxPooling2D(2, 2),\n",
    "    # Flatten the results to feed into a DNN\n",
    "    tf.keras.layers.Flatten(),\n",
    "    # 512 neuron hidden layer\n",
    "    tf.keras.layers.Dense(1024, activation='relu'),\n",
    "    tf.keras.layers.Dense(1024, activation='relu'),\n",
    "    tf.keras.layers.Dense(25, activation='softmax')\n",
    "])\n",
    "\n",
    "\n",
    "model.compile(loss='categorical_crossentropy',\n",
    "              optimizer='adam',\n",
    "              metrics=['accuracy'])\n",
    "\n",
    "model.summary()"
   ]
  },
  {
   "cell_type": "markdown",
   "metadata": {},
   "source": [
    "# "
   ]
  },
  {
   "cell_type": "code",
   "execution_count": 4,
   "metadata": {},
   "outputs": [],
   "source": [
    "#from pathlib import Path\n",
    "\n",
    "#root_dir = path_images\n",
    "#root = Path(root_dir)"
   ]
  },
  {
   "cell_type": "code",
   "execution_count": 5,
   "metadata": {},
   "outputs": [],
   "source": [
    "#rm -rf `find -type d -name .ipynb_checkpoints`"
   ]
  },
  {
   "cell_type": "code",
   "execution_count": 6,
   "metadata": {},
   "outputs": [
    {
     "name": "stdout",
     "output_type": "stream",
     "text": [
      "Found 25414 images belonging to 25 classes.\n",
      "Found 20341 images belonging to 25 classes.\n",
      "Found 5073 images belonging to 25 classes.\n"
     ]
    }
   ],
   "source": [
    "# augmenting the ibput imges\n",
    "image_gen = ImageDataGenerator(width_shift_range=0.1, # Shift the pic width by a max of 10%\n",
    "                               validation_split = 0.2, # Split the Data into 80,20 %\n",
    "                               height_shift_range=0.1, # Shift the pic height by a max of 10%\n",
    "                               rescale=1/255, # Rescale the image by normalzing it.\n",
    "                               zoom_range=0.2, # Zoom in by 20% max\n",
    "                               horizontal_flip=True, # Allow horizontal flipping\n",
    "                               fill_mode='nearest' # Fill in missing pixels with the nearest filled value\n",
    "                              )\n",
    "# initializing paths of input images         \n",
    "path_images = 'Dataset/train'\n",
    "image_gen.flow_from_directory(path_images)\n",
    "#image_gen.flow_from_directory('/home/ec2-user/SageMaker/Training_Data/Corn_Valid_Data')\n",
    "\n",
    "#print(image_gen)\n",
    "\n",
    "batch_size = 32\n",
    "image_shape = (272,363,3)\n",
    "\n",
    "# train on images\n",
    "train_image_gen = image_gen.flow_from_directory(path_images ,\n",
    "                                               target_size=image_shape[:2],\n",
    "                                               batch_size=batch_size,\n",
    "                                                shuffle = True,\n",
    "                                                subset='training',\n",
    "                                               class_mode='categorical')\n",
    "\n",
    "valid_image_gen = image_gen.flow_from_directory(path_images,\n",
    "                                                target_size=image_shape[:2],\n",
    "                                               batch_size=batch_size,\n",
    "                                                shuffle = True,\n",
    "                                                subset='validation',\n",
    "                                               class_mode='categorical')"
   ]
  },
  {
   "cell_type": "code",
   "execution_count": 7,
   "metadata": {},
   "outputs": [
    {
     "data": {
      "text/plain": [
       "{'Apple___Apple_scab': 0,\n",
       " 'Apple___Black_rot': 1,\n",
       " 'Apple___Cedar_apple_rust': 2,\n",
       " 'Apple___healthy': 3,\n",
       " 'Grape___Black_rot': 4,\n",
       " 'Grape___Esca_(Black_Measles)': 5,\n",
       " 'Grape___Leaf_blight_(Isariopsis_Leaf_Spot)': 6,\n",
       " 'Grape___healthy': 7,\n",
       " 'Peach___Bacterial_spot': 8,\n",
       " 'Peach___healthy': 9,\n",
       " 'Potato___Early_blight': 10,\n",
       " 'Potato___Late_blight': 11,\n",
       " 'Potato___healthy': 12,\n",
       " 'Strawberry___Leaf_scorch': 13,\n",
       " 'Strawberry___healthy': 14,\n",
       " 'Tomato___Bacterial_spot': 15,\n",
       " 'Tomato___Early_blight': 16,\n",
       " 'Tomato___Late_blight': 17,\n",
       " 'Tomato___Leaf_Mold': 18,\n",
       " 'Tomato___Septoria_leaf_spot': 19,\n",
       " 'Tomato___Spider_mites Two-spotted_spider_mite': 20,\n",
       " 'Tomato___Target_Spot': 21,\n",
       " 'Tomato___Tomato_Yellow_Leaf_Curl_Virus': 22,\n",
       " 'Tomato___Tomato_mosaic_virus': 23,\n",
       " 'Tomato___healthy': 24}"
      ]
     },
     "execution_count": 7,
     "metadata": {},
     "output_type": "execute_result"
    }
   ],
   "source": [
    "valid_image_gen.class_indices"
   ]
  },
  {
   "cell_type": "code",
   "execution_count": 8,
   "metadata": {},
   "outputs": [
    {
     "data": {
      "text/plain": [
       "'C:\\\\Users\\\\Murtaza\\\\Plant_Diseases'"
      ]
     },
     "execution_count": 8,
     "metadata": {},
     "output_type": "execute_result"
    }
   ],
   "source": [
    "pwd"
   ]
  },
  {
   "cell_type": "code",
   "execution_count": 9,
   "metadata": {
    "scrolled": true
   },
   "outputs": [
    {
     "name": "stdout",
     "output_type": "stream",
     "text": [
      "Epoch 1/50\n",
      "635/635 [==============================] - 382s 602ms/step - loss: 2.0375 - acc: 0.3855 - val_loss: 1.2033 - val_acc: 0.6088\n",
      "Epoch 2/50\n",
      "635/635 [==============================] - 373s 587ms/step - loss: 1.0221 - acc: 0.6643 - val_loss: 0.7889 - val_acc: 0.7306\n",
      "Epoch 3/50\n",
      "635/635 [==============================] - 373s 587ms/step - loss: 0.7281 - acc: 0.7573 - val_loss: 0.5820 - val_acc: 0.8002\n",
      "Epoch 4/50\n",
      "635/635 [==============================] - 373s 587ms/step - loss: 0.5390 - acc: 0.8159 - val_loss: 0.4436 - val_acc: 0.8536\n",
      "Epoch 5/50\n",
      "635/635 [==============================] - 372s 585ms/step - loss: 0.4393 - acc: 0.8508 - val_loss: 0.4400 - val_acc: 0.8540\n",
      "Epoch 6/50\n",
      "635/635 [==============================] - 371s 585ms/step - loss: 0.3682 - acc: 0.8746 - val_loss: 0.3292 - val_acc: 0.8877\n",
      "Epoch 7/50\n",
      "635/635 [==============================] - 371s 585ms/step - loss: 0.3028 - acc: 0.8985 - val_loss: 0.3518 - val_acc: 0.8912\n",
      "Epoch 8/50\n",
      "635/635 [==============================] - 370s 583ms/step - loss: 0.2841 - acc: 0.9044 - val_loss: 0.2832 - val_acc: 0.9055\n",
      "Epoch 9/50\n",
      "635/635 [==============================] - 370s 583ms/step - loss: 0.2412 - acc: 0.9183 - val_loss: 0.2830 - val_acc: 0.9152\n",
      "Epoch 10/50\n",
      "635/635 [==============================] - 371s 585ms/step - loss: 0.2231 - acc: 0.9232 - val_loss: 0.2356 - val_acc: 0.9169\n",
      "Epoch 11/50\n",
      "635/635 [==============================] - 376s 592ms/step - loss: 0.2028 - acc: 0.9315 - val_loss: 0.2807 - val_acc: 0.9116\n",
      "Epoch 12/50\n",
      "635/635 [==============================] - 371s 585ms/step - loss: 0.1968 - acc: 0.9362 - val_loss: 0.2212 - val_acc: 0.9296\n",
      "Epoch 13/50\n",
      "635/635 [==============================] - 369s 582ms/step - loss: 0.1807 - acc: 0.9385 - val_loss: 0.2230 - val_acc: 0.9272\n",
      "Epoch 14/50\n",
      "635/635 [==============================] - 371s 584ms/step - loss: 0.1610 - acc: 0.9466 - val_loss: 0.2169 - val_acc: 0.9322\n",
      "Epoch 15/50\n",
      "635/635 [==============================] - 371s 584ms/step - loss: 0.1498 - acc: 0.9498 - val_loss: 0.2183 - val_acc: 0.9339\n",
      "Epoch 16/50\n",
      "635/635 [==============================] - 371s 584ms/step - loss: 0.1486 - acc: 0.9507 - val_loss: 0.1449 - val_acc: 0.9504\n",
      "Epoch 17/50\n",
      "635/635 [==============================] - 369s 581ms/step - loss: 0.1387 - acc: 0.9563 - val_loss: 0.1566 - val_acc: 0.9476\n",
      "Epoch 18/50\n",
      "635/635 [==============================] - 369s 581ms/step - loss: 0.1423 - acc: 0.9556 - val_loss: 0.2342 - val_acc: 0.9302\n",
      "Epoch 19/50\n",
      "635/635 [==============================] - 368s 580ms/step - loss: 0.1381 - acc: 0.9556 - val_loss: 0.1846 - val_acc: 0.9456\n",
      "Epoch 20/50\n",
      "635/635 [==============================] - 368s 580ms/step - loss: 0.1279 - acc: 0.9584 - val_loss: 0.1427 - val_acc: 0.9563\n",
      "Epoch 21/50\n",
      "635/635 [==============================] - 368s 580ms/step - loss: 0.1172 - acc: 0.9624 - val_loss: 0.1637 - val_acc: 0.9480\n",
      "Epoch 22/50\n",
      "635/635 [==============================] - 370s 582ms/step - loss: 0.1184 - acc: 0.9622 - val_loss: 0.1600 - val_acc: 0.9517\n",
      "Epoch 23/50\n",
      "635/635 [==============================] - 370s 582ms/step - loss: 0.1023 - acc: 0.9662 - val_loss: 0.1491 - val_acc: 0.9547\n",
      "Epoch 24/50\n",
      "635/635 [==============================] - 369s 582ms/step - loss: 0.1109 - acc: 0.9644 - val_loss: 0.1677 - val_acc: 0.9454\n",
      "Epoch 25/50\n",
      "635/635 [==============================] - 369s 581ms/step - loss: 0.1046 - acc: 0.9676 - val_loss: 0.1453 - val_acc: 0.9511\n",
      "Epoch 26/50\n",
      "635/635 [==============================] - 368s 580ms/step - loss: 0.1148 - acc: 0.9643 - val_loss: 0.1541 - val_acc: 0.9561\n",
      "Epoch 27/50\n",
      "635/635 [==============================] - 368s 580ms/step - loss: 0.1055 - acc: 0.9667 - val_loss: 0.1340 - val_acc: 0.9557\n",
      "Epoch 28/50\n",
      "635/635 [==============================] - 368s 580ms/step - loss: 0.1105 - acc: 0.9659 - val_loss: 0.1526 - val_acc: 0.9509\n",
      "Epoch 29/50\n",
      "635/635 [==============================] - 368s 579ms/step - loss: 0.0878 - acc: 0.9712 - val_loss: 0.1725 - val_acc: 0.9531\n",
      "Epoch 30/50\n",
      "635/635 [==============================] - 370s 582ms/step - loss: 0.0968 - acc: 0.9686 - val_loss: 0.1980 - val_acc: 0.9426\n",
      "Epoch 31/50\n",
      "635/635 [==============================] - 370s 582ms/step - loss: 0.0929 - acc: 0.9719 - val_loss: 0.1574 - val_acc: 0.9543\n",
      "Epoch 32/50\n",
      "635/635 [==============================] - 370s 582ms/step - loss: 0.0920 - acc: 0.9708 - val_loss: 0.1201 - val_acc: 0.9644\n",
      "Epoch 33/50\n",
      "635/635 [==============================] - 369s 580ms/step - loss: 0.0833 - acc: 0.9744 - val_loss: 0.2382 - val_acc: 0.9331\n",
      "Epoch 34/50\n",
      "635/635 [==============================] - 368s 580ms/step - loss: 0.0909 - acc: 0.9710 - val_loss: 0.1506 - val_acc: 0.9577\n",
      "Epoch 35/50\n",
      "635/635 [==============================] - 369s 581ms/step - loss: 0.0919 - acc: 0.9714 - val_loss: 0.1179 - val_acc: 0.9638\n",
      "Epoch 36/50\n",
      "635/635 [==============================] - 369s 582ms/step - loss: 0.0848 - acc: 0.9734 - val_loss: 0.1414 - val_acc: 0.9593\n",
      "Epoch 37/50\n",
      "635/635 [==============================] - 368s 579ms/step - loss: 0.0888 - acc: 0.9714 - val_loss: 0.1157 - val_acc: 0.9644\n",
      "Epoch 38/50\n",
      "635/635 [==============================] - 369s 581ms/step - loss: 0.0874 - acc: 0.9718 - val_loss: 0.1842 - val_acc: 0.9430\n",
      "Epoch 39/50\n",
      "635/635 [==============================] - 369s 581ms/step - loss: 0.0920 - acc: 0.9716 - val_loss: 0.1543 - val_acc: 0.9559\n",
      "Epoch 40/50\n",
      "635/635 [==============================] - 370s 583ms/step - loss: 0.0819 - acc: 0.9740 - val_loss: 0.1251 - val_acc: 0.9668\n",
      "Epoch 41/50\n",
      "635/635 [==============================] - 369s 581ms/step - loss: 0.0769 - acc: 0.9779 - val_loss: 0.1195 - val_acc: 0.9660\n",
      "Epoch 42/50\n",
      "635/635 [==============================] - 368s 580ms/step - loss: 0.0847 - acc: 0.9737 - val_loss: 0.1208 - val_acc: 0.9638\n",
      "Epoch 43/50\n",
      "635/635 [==============================] - 368s 579ms/step - loss: 0.1035 - acc: 0.9703 - val_loss: 0.2525 - val_acc: 0.9357\n",
      "Epoch 44/50\n",
      "635/635 [==============================] - 369s 581ms/step - loss: 0.0789 - acc: 0.9760 - val_loss: 0.1051 - val_acc: 0.9711\n",
      "Epoch 45/50\n",
      "635/635 [==============================] - 369s 580ms/step - loss: 0.0723 - acc: 0.9782 - val_loss: 0.1480 - val_acc: 0.9598\n",
      "Epoch 46/50\n",
      "635/635 [==============================] - 370s 582ms/step - loss: 0.0817 - acc: 0.9746 - val_loss: 0.1265 - val_acc: 0.9672\n",
      "Epoch 47/50\n",
      "635/635 [==============================] - 369s 582ms/step - loss: 0.0750 - acc: 0.9779 - val_loss: 0.1204 - val_acc: 0.9682\n",
      "Epoch 48/50\n",
      "635/635 [==============================] - 369s 581ms/step - loss: 0.0713 - acc: 0.9779 - val_loss: 0.1556 - val_acc: 0.9600\n",
      "Epoch 49/50\n",
      "635/635 [==============================] - 369s 581ms/step - loss: 0.0851 - acc: 0.9743 - val_loss: 0.1225 - val_acc: 0.9678\n",
      "Epoch 50/50\n",
      "635/635 [==============================] - 369s 581ms/step - loss: 0.0775 - acc: 0.9776 - val_loss: 0.1286 - val_acc: 0.9630\n"
     ]
    }
   ],
   "source": [
    "warnings.filterwarnings('ignore')\n",
    "\n",
    "#es = EarlyStopping(monitor='val_acc', mode='max', verbose=1 , patience = 10)\n",
    "cb = []\n",
    "checkpoint_dir = 'Checkpoints'\n",
    "ckp_saver = ModelCheckpoint(checkpoint_dir + \"/model.{epoch:02d}-{loss:.2f}.h5\", monitor='loss', verbose=0,\n",
    "                                    save_best_only=True,\n",
    "                                    save_weights_only=True, mode='auto', period=10)\n",
    "cb.append(ckp_saver)\n",
    "\n",
    "\n",
    "results = model.fit_generator(train_image_gen,epochs=50,\n",
    "                              steps_per_epoch=train_image_gen.samples//batch_size,\n",
    "                              validation_data=valid_image_gen,\n",
    "                             validation_steps=valid_image_gen.samples//batch_size,\n",
    "                             callbacks=cb)\n",
    "model.save('Plant_Classifier_80_20.h5')"
   ]
  },
  {
   "cell_type": "code",
   "execution_count": 23,
   "metadata": {},
   "outputs": [
    {
     "data": {
      "image/png": "[encoded data removed]",
      "text/plain": [
       "<Figure size 432x288 with 1 Axes>"
      ]
     },
     "metadata": {
      "needs_background": "light"
     },
     "output_type": "display_data"
    },
    {
     "data": {
      "image/png": "[encoded data removed]",
      "text/plain": [
       "<Figure size 432x288 with 1 Axes>"
      ]
     },
     "metadata": {
      "needs_background": "light"
     },
     "output_type": "display_data"
    }
   ],
   "source": [
    "import matplotlib.pyplot as plt\n",
    "acc = results.history['acc']\n",
    "val_acc = results.history['val_acc']\n",
    "loss = results.history['loss']\n",
    "val_loss = results.history['val_loss']\n",
    "\n",
    "epochs = range(len(acc))\n",
    "\n",
    "plt.plot(epochs, acc, 'blue', label='Training accuracy')\n",
    "plt.plot(epochs, val_acc, 'orange', label='Validation accuracy')\n",
    "plt.title('Training and validation accuracy')\n",
    "plt.legend(loc=0)\n",
    "plt.figure()\n",
    "\n",
    "plt.plot(epochs, loss, 'blue', label='Training Loss')\n",
    "plt.plot(epochs, val_loss, 'orange', label='Validation Loss')\n",
    "plt.title('Training and validation loss')\n",
    "\n",
    "plt.legend()\n",
    "\n",
    "# save plot to file\n",
    "plt.savefig(\"loss_80_20.png\")\n",
    "\n",
    "plt.show()"
   ]
  },
  {
   "cell_type": "raw",
   "metadata": {},
   "source": [
    "import matplotlib.pyplot as plt\n",
    "\n",
    "def summarize_diagnostics(history):\n",
    "    # plot loss\n",
    "    \n",
    "    # plot accuracy\n",
    "    \n",
    "    plt.title(\"Classification Accuracy\")\n",
    "    plt.plot(results.history[\"accuracy\"], color=\"blue\", label=\"train\")\n",
    "    plt.plot(results.history[\"val_accuracy\"], color=\"orange\", label=\"test\")\n",
    "    \n",
    "    plt.legend()\n",
    "    \n",
    "    # save plot to file\n",
    "    plt.savefig(\"Acc_80_20.png\")\n",
    "    \n",
    "    plt.close()\n",
    "    \n",
    "summarize_diagnostics(results)"
   ]
  },
  {
   "cell_type": "code",
   "execution_count": 26,
   "metadata": {},
   "outputs": [
    {
     "ename": "ValueError",
     "evalue": "Unknown initializer: GlorotUniform",
     "output_type": "error",
     "traceback": [
      "\u001b[1;31m---------------------------------------------------------------------------\u001b[0m",
      "\u001b[1;31mValueError\u001b[0m                                Traceback (most recent call last)",
      "\u001b[1;32m<ipython-input-26-c9fb29a58e53>\u001b[0m in \u001b[0;36m<module>\u001b[1;34m\u001b[0m\n\u001b[1;32m----> 1\u001b[1;33m \u001b[0mloaded_model\u001b[0m \u001b[1;33m=\u001b[0m \u001b[0mload_model\u001b[0m\u001b[1;33m(\u001b[0m\u001b[1;34m'Plant_Classifier_80_20.h5'\u001b[0m\u001b[1;33m)\u001b[0m\u001b[1;33m\u001b[0m\u001b[1;33m\u001b[0m\u001b[0m\n\u001b[0m\u001b[0;32m      2\u001b[0m \u001b[0mloaded_model\u001b[0m\u001b[1;33m.\u001b[0m\u001b[0mlayers\u001b[0m\u001b[1;33m[\u001b[0m\u001b[1;36m0\u001b[0m\u001b[1;33m]\u001b[0m\u001b[1;33m.\u001b[0m\u001b[0minput_shape\u001b[0m \u001b[1;31m#(None, 160, 160, 3)\u001b[0m\u001b[1;33m\u001b[0m\u001b[1;33m\u001b[0m\u001b[0m\n\u001b[0;32m      3\u001b[0m \u001b[0mloaded_model\u001b[0m\u001b[1;33m.\u001b[0m\u001b[0msummary\u001b[0m\u001b[1;33m(\u001b[0m\u001b[1;33m)\u001b[0m\u001b[1;33m\u001b[0m\u001b[1;33m\u001b[0m\u001b[0m\n",
      "\u001b[1;32mc:\\python36\\lib\\site-packages\\keras\\engine\\saving.py\u001b[0m in \u001b[0;36mload_wrapper\u001b[1;34m(*args, **kwargs)\u001b[0m\n\u001b[0;32m    490\u001b[0m                 \u001b[0mos\u001b[0m\u001b[1;33m.\u001b[0m\u001b[0mremove\u001b[0m\u001b[1;33m(\u001b[0m\u001b[0mtmp_filepath\u001b[0m\u001b[1;33m)\u001b[0m\u001b[1;33m\u001b[0m\u001b[1;33m\u001b[0m\u001b[0m\n\u001b[0;32m    491\u001b[0m             \u001b[1;32mreturn\u001b[0m \u001b[0mres\u001b[0m\u001b[1;33m\u001b[0m\u001b[1;33m\u001b[0m\u001b[0m\n\u001b[1;32m--> 492\u001b[1;33m         \u001b[1;32mreturn\u001b[0m \u001b[0mload_function\u001b[0m\u001b[1;33m(\u001b[0m\u001b[1;33m*\u001b[0m\u001b[0margs\u001b[0m\u001b[1;33m,\u001b[0m \u001b[1;33m**\u001b[0m\u001b[0mkwargs\u001b[0m\u001b[1;33m)\u001b[0m\u001b[1;33m\u001b[0m\u001b[1;33m\u001b[0m\u001b[0m\n\u001b[0m\u001b[0;32m    493\u001b[0m \u001b[1;33m\u001b[0m\u001b[0m\n\u001b[0;32m    494\u001b[0m     \u001b[1;32mreturn\u001b[0m \u001b[0mload_wrapper\u001b[0m\u001b[1;33m\u001b[0m\u001b[1;33m\u001b[0m\u001b[0m\n",
      "\u001b[1;32mc:\\python36\\lib\\site-packages\\keras\\engine\\saving.py\u001b[0m in \u001b[0;36mload_model\u001b[1;34m(filepath, custom_objects, compile)\u001b[0m\n\u001b[0;32m    582\u001b[0m     \u001b[1;32mif\u001b[0m \u001b[0mH5Dict\u001b[0m\u001b[1;33m.\u001b[0m\u001b[0mis_supported_type\u001b[0m\u001b[1;33m(\u001b[0m\u001b[0mfilepath\u001b[0m\u001b[1;33m)\u001b[0m\u001b[1;33m:\u001b[0m\u001b[1;33m\u001b[0m\u001b[1;33m\u001b[0m\u001b[0m\n\u001b[0;32m    583\u001b[0m         \u001b[1;32mwith\u001b[0m \u001b[0mH5Dict\u001b[0m\u001b[1;33m(\u001b[0m\u001b[0mfilepath\u001b[0m\u001b[1;33m,\u001b[0m \u001b[0mmode\u001b[0m\u001b[1;33m=\u001b[0m\u001b[1;34m'r'\u001b[0m\u001b[1;33m)\u001b[0m \u001b[1;32mas\u001b[0m \u001b[0mh5dict\u001b[0m\u001b[1;33m:\u001b[0m\u001b[1;33m\u001b[0m\u001b[1;33m\u001b[0m\u001b[0m\n\u001b[1;32m--> 584\u001b[1;33m             \u001b[0mmodel\u001b[0m \u001b[1;33m=\u001b[0m \u001b[0m_deserialize_model\u001b[0m\u001b[1;33m(\u001b[0m\u001b[0mh5dict\u001b[0m\u001b[1;33m,\u001b[0m \u001b[0mcustom_objects\u001b[0m\u001b[1;33m,\u001b[0m \u001b[0mcompile\u001b[0m\u001b[1;33m)\u001b[0m\u001b[1;33m\u001b[0m\u001b[1;33m\u001b[0m\u001b[0m\n\u001b[0m\u001b[0;32m    585\u001b[0m     \u001b[1;32melif\u001b[0m \u001b[0mhasattr\u001b[0m\u001b[1;33m(\u001b[0m\u001b[0mfilepath\u001b[0m\u001b[1;33m,\u001b[0m \u001b[1;34m'write'\u001b[0m\u001b[1;33m)\u001b[0m \u001b[1;32mand\u001b[0m \u001b[0mcallable\u001b[0m\u001b[1;33m(\u001b[0m\u001b[0mfilepath\u001b[0m\u001b[1;33m.\u001b[0m\u001b[0mwrite\u001b[0m\u001b[1;33m)\u001b[0m\u001b[1;33m:\u001b[0m\u001b[1;33m\u001b[0m\u001b[1;33m\u001b[0m\u001b[0m\n\u001b[0;32m    586\u001b[0m         \u001b[1;32mdef\u001b[0m \u001b[0mload_function\u001b[0m\u001b[1;33m(\u001b[0m\u001b[0mh5file\u001b[0m\u001b[1;33m)\u001b[0m\u001b[1;33m:\u001b[0m\u001b[1;33m\u001b[0m\u001b[1;33m\u001b[0m\u001b[0m\n",
      "\u001b[1;32mc:\\python36\\lib\\site-packages\\keras\\engine\\saving.py\u001b[0m in \u001b[0;36m_deserialize_model\u001b[1;34m(h5dict, custom_objects, compile)\u001b[0m\n\u001b[0;32m    272\u001b[0m         \u001b[1;32mraise\u001b[0m \u001b[0mValueError\u001b[0m\u001b[1;33m(\u001b[0m\u001b[1;34m'No model found in config.'\u001b[0m\u001b[1;33m)\u001b[0m\u001b[1;33m\u001b[0m\u001b[1;33m\u001b[0m\u001b[0m\n\u001b[0;32m    273\u001b[0m     \u001b[0mmodel_config\u001b[0m \u001b[1;33m=\u001b[0m \u001b[0mjson\u001b[0m\u001b[1;33m.\u001b[0m\u001b[0mloads\u001b[0m\u001b[1;33m(\u001b[0m\u001b[0mmodel_config\u001b[0m\u001b[1;33m.\u001b[0m\u001b[0mdecode\u001b[0m\u001b[1;33m(\u001b[0m\u001b[1;34m'utf-8'\u001b[0m\u001b[1;33m)\u001b[0m\u001b[1;33m)\u001b[0m\u001b[1;33m\u001b[0m\u001b[1;33m\u001b[0m\u001b[0m\n\u001b[1;32m--> 274\u001b[1;33m     \u001b[0mmodel\u001b[0m \u001b[1;33m=\u001b[0m \u001b[0mmodel_from_config\u001b[0m\u001b[1;33m(\u001b[0m\u001b[0mmodel_config\u001b[0m\u001b[1;33m,\u001b[0m \u001b[0mcustom_objects\u001b[0m\u001b[1;33m=\u001b[0m\u001b[0mcustom_objects\u001b[0m\u001b[1;33m)\u001b[0m\u001b[1;33m\u001b[0m\u001b[1;33m\u001b[0m\u001b[0m\n\u001b[0m\u001b[0;32m    275\u001b[0m     \u001b[0mmodel_weights_group\u001b[0m \u001b[1;33m=\u001b[0m \u001b[0mh5dict\u001b[0m\u001b[1;33m[\u001b[0m\u001b[1;34m'model_weights'\u001b[0m\u001b[1;33m]\u001b[0m\u001b[1;33m\u001b[0m\u001b[1;33m\u001b[0m\u001b[0m\n\u001b[0;32m    276\u001b[0m \u001b[1;33m\u001b[0m\u001b[0m\n",
      "\u001b[1;32mc:\\python36\\lib\\site-packages\\keras\\engine\\saving.py\u001b[0m in \u001b[0;36mmodel_from_config\u001b[1;34m(config, custom_objects)\u001b[0m\n\u001b[0;32m    625\u001b[0m                         '`Sequential.from_config(config)`?')\n\u001b[0;32m    626\u001b[0m     \u001b[1;32mfrom\u001b[0m \u001b[1;33m.\u001b[0m\u001b[1;33m.\u001b[0m\u001b[0mlayers\u001b[0m \u001b[1;32mimport\u001b[0m \u001b[0mdeserialize\u001b[0m\u001b[1;33m\u001b[0m\u001b[1;33m\u001b[0m\u001b[0m\n\u001b[1;32m--> 627\u001b[1;33m     \u001b[1;32mreturn\u001b[0m \u001b[0mdeserialize\u001b[0m\u001b[1;33m(\u001b[0m\u001b[0mconfig\u001b[0m\u001b[1;33m,\u001b[0m \u001b[0mcustom_objects\u001b[0m\u001b[1;33m=\u001b[0m\u001b[0mcustom_objects\u001b[0m\u001b[1;33m)\u001b[0m\u001b[1;33m\u001b[0m\u001b[1;33m\u001b[0m\u001b[0m\n\u001b[0m\u001b[0;32m    628\u001b[0m \u001b[1;33m\u001b[0m\u001b[0m\n\u001b[0;32m    629\u001b[0m \u001b[1;33m\u001b[0m\u001b[0m\n",
      "\u001b[1;32mc:\\python36\\lib\\site-packages\\keras\\layers\\__init__.py\u001b[0m in \u001b[0;36mdeserialize\u001b[1;34m(config, custom_objects)\u001b[0m\n\u001b[0;32m    166\u001b[0m                                     \u001b[0mmodule_objects\u001b[0m\u001b[1;33m=\u001b[0m\u001b[0mglobs\u001b[0m\u001b[1;33m,\u001b[0m\u001b[1;33m\u001b[0m\u001b[1;33m\u001b[0m\u001b[0m\n\u001b[0;32m    167\u001b[0m                                     \u001b[0mcustom_objects\u001b[0m\u001b[1;33m=\u001b[0m\u001b[0mcustom_objects\u001b[0m\u001b[1;33m,\u001b[0m\u001b[1;33m\u001b[0m\u001b[1;33m\u001b[0m\u001b[0m\n\u001b[1;32m--> 168\u001b[1;33m                                     printable_module_name='layer')\n\u001b[0m",
      "\u001b[1;32mc:\\python36\\lib\\site-packages\\keras\\utils\\generic_utils.py\u001b[0m in \u001b[0;36mdeserialize_keras_object\u001b[1;34m(identifier, module_objects, custom_objects, printable_module_name)\u001b[0m\n\u001b[0;32m    145\u001b[0m                     \u001b[0mconfig\u001b[0m\u001b[1;33m[\u001b[0m\u001b[1;34m'config'\u001b[0m\u001b[1;33m]\u001b[0m\u001b[1;33m,\u001b[0m\u001b[1;33m\u001b[0m\u001b[1;33m\u001b[0m\u001b[0m\n\u001b[0;32m    146\u001b[0m                     custom_objects=dict(list(_GLOBAL_CUSTOM_OBJECTS.items()) +\n\u001b[1;32m--> 147\u001b[1;33m                                         list(custom_objects.items())))\n\u001b[0m\u001b[0;32m    148\u001b[0m             \u001b[1;32mwith\u001b[0m \u001b[0mCustomObjectScope\u001b[0m\u001b[1;33m(\u001b[0m\u001b[0mcustom_objects\u001b[0m\u001b[1;33m)\u001b[0m\u001b[1;33m:\u001b[0m\u001b[1;33m\u001b[0m\u001b[1;33m\u001b[0m\u001b[0m\n\u001b[0;32m    149\u001b[0m                 \u001b[1;32mreturn\u001b[0m \u001b[0mcls\u001b[0m\u001b[1;33m.\u001b[0m\u001b[0mfrom_config\u001b[0m\u001b[1;33m(\u001b[0m\u001b[0mconfig\u001b[0m\u001b[1;33m[\u001b[0m\u001b[1;34m'config'\u001b[0m\u001b[1;33m]\u001b[0m\u001b[1;33m)\u001b[0m\u001b[1;33m\u001b[0m\u001b[1;33m\u001b[0m\u001b[0m\n",
      "\u001b[1;32mc:\\python36\\lib\\site-packages\\keras\\engine\\sequential.py\u001b[0m in \u001b[0;36mfrom_config\u001b[1;34m(cls, config, custom_objects)\u001b[0m\n\u001b[0;32m    299\u001b[0m         \u001b[1;32mfor\u001b[0m \u001b[0mconf\u001b[0m \u001b[1;32min\u001b[0m \u001b[0mlayer_configs\u001b[0m\u001b[1;33m:\u001b[0m\u001b[1;33m\u001b[0m\u001b[1;33m\u001b[0m\u001b[0m\n\u001b[0;32m    300\u001b[0m             layer = layer_module.deserialize(conf,\n\u001b[1;32m--> 301\u001b[1;33m                                              custom_objects=custom_objects)\n\u001b[0m\u001b[0;32m    302\u001b[0m             \u001b[0mmodel\u001b[0m\u001b[1;33m.\u001b[0m\u001b[0madd\u001b[0m\u001b[1;33m(\u001b[0m\u001b[0mlayer\u001b[0m\u001b[1;33m)\u001b[0m\u001b[1;33m\u001b[0m\u001b[1;33m\u001b[0m\u001b[0m\n\u001b[0;32m    303\u001b[0m         \u001b[1;32mif\u001b[0m \u001b[1;32mnot\u001b[0m \u001b[0mmodel\u001b[0m\u001b[1;33m.\u001b[0m\u001b[0minputs\u001b[0m \u001b[1;32mand\u001b[0m \u001b[0mbuild_input_shape\u001b[0m\u001b[1;33m:\u001b[0m\u001b[1;33m\u001b[0m\u001b[1;33m\u001b[0m\u001b[0m\n",
      "\u001b[1;32mc:\\python36\\lib\\site-packages\\keras\\layers\\__init__.py\u001b[0m in \u001b[0;36mdeserialize\u001b[1;34m(config, custom_objects)\u001b[0m\n\u001b[0;32m    166\u001b[0m                                     \u001b[0mmodule_objects\u001b[0m\u001b[1;33m=\u001b[0m\u001b[0mglobs\u001b[0m\u001b[1;33m,\u001b[0m\u001b[1;33m\u001b[0m\u001b[1;33m\u001b[0m\u001b[0m\n\u001b[0;32m    167\u001b[0m                                     \u001b[0mcustom_objects\u001b[0m\u001b[1;33m=\u001b[0m\u001b[0mcustom_objects\u001b[0m\u001b[1;33m,\u001b[0m\u001b[1;33m\u001b[0m\u001b[1;33m\u001b[0m\u001b[0m\n\u001b[1;32m--> 168\u001b[1;33m                                     printable_module_name='layer')\n\u001b[0m",
      "\u001b[1;32mc:\\python36\\lib\\site-packages\\keras\\utils\\generic_utils.py\u001b[0m in \u001b[0;36mdeserialize_keras_object\u001b[1;34m(identifier, module_objects, custom_objects, printable_module_name)\u001b[0m\n\u001b[0;32m    147\u001b[0m                                         list(custom_objects.items())))\n\u001b[0;32m    148\u001b[0m             \u001b[1;32mwith\u001b[0m \u001b[0mCustomObjectScope\u001b[0m\u001b[1;33m(\u001b[0m\u001b[0mcustom_objects\u001b[0m\u001b[1;33m)\u001b[0m\u001b[1;33m:\u001b[0m\u001b[1;33m\u001b[0m\u001b[1;33m\u001b[0m\u001b[0m\n\u001b[1;32m--> 149\u001b[1;33m                 \u001b[1;32mreturn\u001b[0m \u001b[0mcls\u001b[0m\u001b[1;33m.\u001b[0m\u001b[0mfrom_config\u001b[0m\u001b[1;33m(\u001b[0m\u001b[0mconfig\u001b[0m\u001b[1;33m[\u001b[0m\u001b[1;34m'config'\u001b[0m\u001b[1;33m]\u001b[0m\u001b[1;33m)\u001b[0m\u001b[1;33m\u001b[0m\u001b[1;33m\u001b[0m\u001b[0m\n\u001b[0m\u001b[0;32m    150\u001b[0m         \u001b[1;32melse\u001b[0m\u001b[1;33m:\u001b[0m\u001b[1;33m\u001b[0m\u001b[1;33m\u001b[0m\u001b[0m\n\u001b[0;32m    151\u001b[0m             \u001b[1;31m# Then `cls` may be a function returning a class.\u001b[0m\u001b[1;33m\u001b[0m\u001b[1;33m\u001b[0m\u001b[1;33m\u001b[0m\u001b[0m\n",
      "\u001b[1;32mc:\\python36\\lib\\site-packages\\keras\\engine\\base_layer.py\u001b[0m in \u001b[0;36mfrom_config\u001b[1;34m(cls, config)\u001b[0m\n\u001b[0;32m   1177\u001b[0m             \u001b[0mA\u001b[0m \u001b[0mlayer\u001b[0m \u001b[0minstance\u001b[0m\u001b[1;33m.\u001b[0m\u001b[1;33m\u001b[0m\u001b[1;33m\u001b[0m\u001b[0m\n\u001b[0;32m   1178\u001b[0m         \"\"\"\n\u001b[1;32m-> 1179\u001b[1;33m         \u001b[1;32mreturn\u001b[0m \u001b[0mcls\u001b[0m\u001b[1;33m(\u001b[0m\u001b[1;33m**\u001b[0m\u001b[0mconfig\u001b[0m\u001b[1;33m)\u001b[0m\u001b[1;33m\u001b[0m\u001b[1;33m\u001b[0m\u001b[0m\n\u001b[0m\u001b[0;32m   1180\u001b[0m \u001b[1;33m\u001b[0m\u001b[0m\n\u001b[0;32m   1181\u001b[0m     \u001b[1;32mdef\u001b[0m \u001b[0mcount_params\u001b[0m\u001b[1;33m(\u001b[0m\u001b[0mself\u001b[0m\u001b[1;33m)\u001b[0m\u001b[1;33m:\u001b[0m\u001b[1;33m\u001b[0m\u001b[1;33m\u001b[0m\u001b[0m\n",
      "\u001b[1;32mc:\\python36\\lib\\site-packages\\keras\\legacy\\interfaces.py\u001b[0m in \u001b[0;36mwrapper\u001b[1;34m(*args, **kwargs)\u001b[0m\n\u001b[0;32m     89\u001b[0m                 warnings.warn('Update your `' + object_name + '` call to the ' +\n\u001b[0;32m     90\u001b[0m                               'Keras 2 API: ' + signature, stacklevel=2)\n\u001b[1;32m---> 91\u001b[1;33m             \u001b[1;32mreturn\u001b[0m \u001b[0mfunc\u001b[0m\u001b[1;33m(\u001b[0m\u001b[1;33m*\u001b[0m\u001b[0margs\u001b[0m\u001b[1;33m,\u001b[0m \u001b[1;33m**\u001b[0m\u001b[0mkwargs\u001b[0m\u001b[1;33m)\u001b[0m\u001b[1;33m\u001b[0m\u001b[1;33m\u001b[0m\u001b[0m\n\u001b[0m\u001b[0;32m     92\u001b[0m         \u001b[0mwrapper\u001b[0m\u001b[1;33m.\u001b[0m\u001b[0m_original_function\u001b[0m \u001b[1;33m=\u001b[0m \u001b[0mfunc\u001b[0m\u001b[1;33m\u001b[0m\u001b[1;33m\u001b[0m\u001b[0m\n\u001b[0;32m     93\u001b[0m         \u001b[1;32mreturn\u001b[0m \u001b[0mwrapper\u001b[0m\u001b[1;33m\u001b[0m\u001b[1;33m\u001b[0m\u001b[0m\n",
      "\u001b[1;32mc:\\python36\\lib\\site-packages\\keras\\layers\\convolutional.py\u001b[0m in \u001b[0;36m__init__\u001b[1;34m(self, filters, kernel_size, strides, padding, data_format, dilation_rate, activation, use_bias, kernel_initializer, bias_initializer, kernel_regularizer, bias_regularizer, activity_regularizer, kernel_constraint, bias_constraint, **kwargs)\u001b[0m\n\u001b[0;32m    482\u001b[0m             \u001b[0mkernel_constraint\u001b[0m\u001b[1;33m=\u001b[0m\u001b[0mkernel_constraint\u001b[0m\u001b[1;33m,\u001b[0m\u001b[1;33m\u001b[0m\u001b[1;33m\u001b[0m\u001b[0m\n\u001b[0;32m    483\u001b[0m             \u001b[0mbias_constraint\u001b[0m\u001b[1;33m=\u001b[0m\u001b[0mbias_constraint\u001b[0m\u001b[1;33m,\u001b[0m\u001b[1;33m\u001b[0m\u001b[1;33m\u001b[0m\u001b[0m\n\u001b[1;32m--> 484\u001b[1;33m             **kwargs)\n\u001b[0m\u001b[0;32m    485\u001b[0m \u001b[1;33m\u001b[0m\u001b[0m\n\u001b[0;32m    486\u001b[0m     \u001b[1;32mdef\u001b[0m \u001b[0mget_config\u001b[0m\u001b[1;33m(\u001b[0m\u001b[0mself\u001b[0m\u001b[1;33m)\u001b[0m\u001b[1;33m:\u001b[0m\u001b[1;33m\u001b[0m\u001b[1;33m\u001b[0m\u001b[0m\n",
      "\u001b[1;32mc:\\python36\\lib\\site-packages\\keras\\layers\\convolutional.py\u001b[0m in \u001b[0;36m__init__\u001b[1;34m(self, rank, filters, kernel_size, strides, padding, data_format, dilation_rate, activation, use_bias, kernel_initializer, bias_initializer, kernel_regularizer, bias_regularizer, activity_regularizer, kernel_constraint, bias_constraint, **kwargs)\u001b[0m\n\u001b[0;32m    115\u001b[0m         \u001b[0mself\u001b[0m\u001b[1;33m.\u001b[0m\u001b[0mactivation\u001b[0m \u001b[1;33m=\u001b[0m \u001b[0mactivations\u001b[0m\u001b[1;33m.\u001b[0m\u001b[0mget\u001b[0m\u001b[1;33m(\u001b[0m\u001b[0mactivation\u001b[0m\u001b[1;33m)\u001b[0m\u001b[1;33m\u001b[0m\u001b[1;33m\u001b[0m\u001b[0m\n\u001b[0;32m    116\u001b[0m         \u001b[0mself\u001b[0m\u001b[1;33m.\u001b[0m\u001b[0muse_bias\u001b[0m \u001b[1;33m=\u001b[0m \u001b[0muse_bias\u001b[0m\u001b[1;33m\u001b[0m\u001b[1;33m\u001b[0m\u001b[0m\n\u001b[1;32m--> 117\u001b[1;33m         \u001b[0mself\u001b[0m\u001b[1;33m.\u001b[0m\u001b[0mkernel_initializer\u001b[0m \u001b[1;33m=\u001b[0m \u001b[0minitializers\u001b[0m\u001b[1;33m.\u001b[0m\u001b[0mget\u001b[0m\u001b[1;33m(\u001b[0m\u001b[0mkernel_initializer\u001b[0m\u001b[1;33m)\u001b[0m\u001b[1;33m\u001b[0m\u001b[1;33m\u001b[0m\u001b[0m\n\u001b[0m\u001b[0;32m    118\u001b[0m         \u001b[0mself\u001b[0m\u001b[1;33m.\u001b[0m\u001b[0mbias_initializer\u001b[0m \u001b[1;33m=\u001b[0m \u001b[0minitializers\u001b[0m\u001b[1;33m.\u001b[0m\u001b[0mget\u001b[0m\u001b[1;33m(\u001b[0m\u001b[0mbias_initializer\u001b[0m\u001b[1;33m)\u001b[0m\u001b[1;33m\u001b[0m\u001b[1;33m\u001b[0m\u001b[0m\n\u001b[0;32m    119\u001b[0m         \u001b[0mself\u001b[0m\u001b[1;33m.\u001b[0m\u001b[0mkernel_regularizer\u001b[0m \u001b[1;33m=\u001b[0m \u001b[0mregularizers\u001b[0m\u001b[1;33m.\u001b[0m\u001b[0mget\u001b[0m\u001b[1;33m(\u001b[0m\u001b[0mkernel_regularizer\u001b[0m\u001b[1;33m)\u001b[0m\u001b[1;33m\u001b[0m\u001b[1;33m\u001b[0m\u001b[0m\n",
      "\u001b[1;32mc:\\python36\\lib\\site-packages\\keras\\initializers.py\u001b[0m in \u001b[0;36mget\u001b[1;34m(identifier)\u001b[0m\n\u001b[0;32m    513\u001b[0m \u001b[1;32mdef\u001b[0m \u001b[0mget\u001b[0m\u001b[1;33m(\u001b[0m\u001b[0midentifier\u001b[0m\u001b[1;33m)\u001b[0m\u001b[1;33m:\u001b[0m\u001b[1;33m\u001b[0m\u001b[1;33m\u001b[0m\u001b[0m\n\u001b[0;32m    514\u001b[0m     \u001b[1;32mif\u001b[0m \u001b[0misinstance\u001b[0m\u001b[1;33m(\u001b[0m\u001b[0midentifier\u001b[0m\u001b[1;33m,\u001b[0m \u001b[0mdict\u001b[0m\u001b[1;33m)\u001b[0m\u001b[1;33m:\u001b[0m\u001b[1;33m\u001b[0m\u001b[1;33m\u001b[0m\u001b[0m\n\u001b[1;32m--> 515\u001b[1;33m         \u001b[1;32mreturn\u001b[0m \u001b[0mdeserialize\u001b[0m\u001b[1;33m(\u001b[0m\u001b[0midentifier\u001b[0m\u001b[1;33m)\u001b[0m\u001b[1;33m\u001b[0m\u001b[1;33m\u001b[0m\u001b[0m\n\u001b[0m\u001b[0;32m    516\u001b[0m     \u001b[1;32melif\u001b[0m \u001b[0misinstance\u001b[0m\u001b[1;33m(\u001b[0m\u001b[0midentifier\u001b[0m\u001b[1;33m,\u001b[0m \u001b[0msix\u001b[0m\u001b[1;33m.\u001b[0m\u001b[0mstring_types\u001b[0m\u001b[1;33m)\u001b[0m\u001b[1;33m:\u001b[0m\u001b[1;33m\u001b[0m\u001b[1;33m\u001b[0m\u001b[0m\n\u001b[0;32m    517\u001b[0m         \u001b[0mconfig\u001b[0m \u001b[1;33m=\u001b[0m \u001b[1;33m{\u001b[0m\u001b[1;34m'class_name'\u001b[0m\u001b[1;33m:\u001b[0m \u001b[0mstr\u001b[0m\u001b[1;33m(\u001b[0m\u001b[0midentifier\u001b[0m\u001b[1;33m)\u001b[0m\u001b[1;33m,\u001b[0m \u001b[1;34m'config'\u001b[0m\u001b[1;33m:\u001b[0m \u001b[1;33m{\u001b[0m\u001b[1;33m}\u001b[0m\u001b[1;33m}\u001b[0m\u001b[1;33m\u001b[0m\u001b[1;33m\u001b[0m\u001b[0m\n",
      "\u001b[1;32mc:\\python36\\lib\\site-packages\\keras\\initializers.py\u001b[0m in \u001b[0;36mdeserialize\u001b[1;34m(config, custom_objects)\u001b[0m\n\u001b[0;32m    508\u001b[0m                                     \u001b[0mmodule_objects\u001b[0m\u001b[1;33m=\u001b[0m\u001b[0mglobals\u001b[0m\u001b[1;33m(\u001b[0m\u001b[1;33m)\u001b[0m\u001b[1;33m,\u001b[0m\u001b[1;33m\u001b[0m\u001b[1;33m\u001b[0m\u001b[0m\n\u001b[0;32m    509\u001b[0m                                     \u001b[0mcustom_objects\u001b[0m\u001b[1;33m=\u001b[0m\u001b[0mcustom_objects\u001b[0m\u001b[1;33m,\u001b[0m\u001b[1;33m\u001b[0m\u001b[1;33m\u001b[0m\u001b[0m\n\u001b[1;32m--> 510\u001b[1;33m                                     printable_module_name='initializer')\n\u001b[0m\u001b[0;32m    511\u001b[0m \u001b[1;33m\u001b[0m\u001b[0m\n\u001b[0;32m    512\u001b[0m \u001b[1;33m\u001b[0m\u001b[0m\n",
      "\u001b[1;32mc:\\python36\\lib\\site-packages\\keras\\utils\\generic_utils.py\u001b[0m in \u001b[0;36mdeserialize_keras_object\u001b[1;34m(identifier, module_objects, custom_objects, printable_module_name)\u001b[0m\n\u001b[0;32m    138\u001b[0m             \u001b[1;32mif\u001b[0m \u001b[0mcls\u001b[0m \u001b[1;32mis\u001b[0m \u001b[1;32mNone\u001b[0m\u001b[1;33m:\u001b[0m\u001b[1;33m\u001b[0m\u001b[1;33m\u001b[0m\u001b[0m\n\u001b[0;32m    139\u001b[0m                 raise ValueError('Unknown ' + printable_module_name +\n\u001b[1;32m--> 140\u001b[1;33m                                  ': ' + class_name)\n\u001b[0m\u001b[0;32m    141\u001b[0m         \u001b[1;32mif\u001b[0m \u001b[0mhasattr\u001b[0m\u001b[1;33m(\u001b[0m\u001b[0mcls\u001b[0m\u001b[1;33m,\u001b[0m \u001b[1;34m'from_config'\u001b[0m\u001b[1;33m)\u001b[0m\u001b[1;33m:\u001b[0m\u001b[1;33m\u001b[0m\u001b[1;33m\u001b[0m\u001b[0m\n\u001b[0;32m    142\u001b[0m             \u001b[0mcustom_objects\u001b[0m \u001b[1;33m=\u001b[0m \u001b[0mcustom_objects\u001b[0m \u001b[1;32mor\u001b[0m \u001b[1;33m{\u001b[0m\u001b[1;33m}\u001b[0m\u001b[1;33m\u001b[0m\u001b[1;33m\u001b[0m\u001b[0m\n",
      "\u001b[1;31mValueError\u001b[0m: Unknown initializer: GlorotUniform"
     ]
    }
   ],
   "source": [
    "loaded_model = load_model('Plant_Classifier_80_20.h5')\n",
    "loaded_model.layers[0].input_shape #(None, 160, 160, 3)\n",
    "loaded_model.summary()"
   ]
  },
  {
   "cell_type": "code",
   "execution_count": 30,
   "metadata": {},
   "outputs": [
    {
     "name": "stdout",
     "output_type": "stream",
     "text": [
      "Found 6353 images belonging to 25 classes.\n"
     ]
    }
   ],
   "source": [
    "test_datagen = ImageDataGenerator(rescale=1. / 255)\n",
    "test_generator = test_datagen.flow_from_directory('Dataset/val',\n",
    "                                                        target_size=image_shape[:2],\n",
    "                                                        batch_size=batch_size,\n",
    "                                                        shuffle = False,\n",
    "                                                        class_mode='categorical')"
   ]
  },
  {
   "cell_type": "code",
   "execution_count": 37,
   "metadata": {},
   "outputs": [
    {
     "name": "stdout",
     "output_type": "stream",
     "text": [
      "Confusion Matrix\n",
      "[[ 114    2    0    4    0    0    0    0    2    0    0    3    0    0\n",
      "     0    1    0    0    0    0    0    0    0    0    0]\n",
      " [   0  125    0    0    0    0    0    0    0    0    0    0    0    0\n",
      "     0    0    0    0    0    0    0    0    0    0    0]\n",
      " [   0    0   46    0    0    0    0    0    2    0    0    5    0    0\n",
      "     0    1    1    0    0    0    0    0    0    0    0]\n",
      " [   3    0    0  326    0    0    0    0    0    0    0    0    0    0\n",
      "     0    0    0    0    0    0    0    0    0    0    0]\n",
      " [   0    1    0    0  233    2    0    0    0    0    0    0    0    0\n",
      "     0    0    0    0    0    0    0    0    0    0    0]\n",
      " [   0    0    0    0    3  273    0    0    0    0    0    0    0    0\n",
      "     0    0    0    0    0    0    0    0    0    0    0]\n",
      " [   0    0    0    0    0    0  215    0    0    0    0    0    0    0\n",
      "     0    0    0    0    0    0    0    0    0    0    0]\n",
      " [   0    0    0    0    0    0    0   83    0    0    0    0    0    0\n",
      "     0    0    0    0    0    0    0    1    0    0    0]\n",
      " [   0    2    0    0    0    0    0    0  450    3    2    0    0    1\n",
      "     0    0    0    0    1    0    0    0    0    0    0]\n",
      " [   0    0    0    2    0    0    0    0    0   70    0    0    0    0\n",
      "     0    0    0    0    0    0    0    0    0    0    0]\n",
      " [   0    0    0    1    0    0    0    0    0    0  197    0    0    0\n",
      "     0    0    0    1    0    1    0    0    0    0    0]\n",
      " [   0    0    0    0    0    0    0    0    0    0    0  196    0    0\n",
      "     0    0    0    4    0    0    0    0    0    0    0]\n",
      " [   0    0    0    2    0    0    0    0    0    0    0    1   28    0\n",
      "     0    0    0    0    0    0    0    0    0    0    0]\n",
      " [   0    0    0    0    0    0    0    0    1    0    0    0    0  220\n",
      "     0    0    0    0    0    0    0    0    0    0    1]\n",
      " [   0    0    0    0    0    0    0    0    0    0    0    0    3    0\n",
      "    89    0    0    0    0    0    0    0    0    0    0]\n",
      " [   1    0    0    0    1    0    0    0    3    0    0    0    0    0\n",
      "     0  416    1    0    0    0    0    1    2    0    0]\n",
      " [   1    0    0    1    0    0    0    0    0    0    4    1    0    0\n",
      "     0    6  175    6    0    3    0    3    0    0    0]\n",
      " [   1    0    0    2    0    1    0    0    0    0    1    5    0    0\n",
      "     0    0    5  364    0    0    0    2    1    0    0]\n",
      " [   1    0    0    0    0    0    0    0    0    0    0    0    0    0\n",
      "     0    0    0    1  181    4    1    0    2    1    0]\n",
      " [   0    2    0    0    0    0    0    0    2    1    1    1    0    2\n",
      "     0    2    0    1    1  340    0    1    0    0    0]\n",
      " [   0    0    0    1    0    0    1    0    0    1    0    0    0    0\n",
      "     0    0    0    0    2    0  298   27    1    3    1]\n",
      " [   0    0    0    0    0    0    0    0    0    0    0    0    0    0\n",
      "     0    1    1    0    0    2    0  276    0    0    1]\n",
      " [   0    0    0    0    0    0    0    0    0    0    0    3    0    0\n",
      "     0    0    0    0    0    0    0    0 1068    0    0]\n",
      " [   0    0    0    0    0    0    0    0    0    0    0    0    0    0\n",
      "     0    0    0    0    0    0    0    0    0   74    0]\n",
      " [   0    0    0    0    0    0    0    0    0    0    0    0    0    0\n",
      "     0    1    0    0    0    0    0    1    0    0  316]]\n",
      "Classification Report\n",
      "              precision    recall  f1-score   support\n",
      "\n",
      "           0       0.94      0.90      0.92       126\n",
      "           1       0.95      1.00      0.97       125\n",
      "           2       1.00      0.84      0.91        55\n",
      "           3       0.96      0.99      0.98       329\n",
      "           4       0.98      0.99      0.99       236\n",
      "           5       0.99      0.99      0.99       276\n",
      "           6       1.00      1.00      1.00       215\n",
      "           7       1.00      0.99      0.99        84\n",
      "           8       0.98      0.98      0.98       459\n",
      "           9       0.93      0.97      0.95        72\n",
      "          10       0.96      0.98      0.97       200\n",
      "          11       0.91      0.98      0.94       200\n",
      "          12       0.90      0.90      0.90        31\n",
      "          13       0.99      0.99      0.99       222\n",
      "          14       1.00      0.97      0.98        92\n",
      "          15       0.97      0.98      0.98       425\n",
      "          16       0.96      0.88      0.91       200\n",
      "          17       0.97      0.95      0.96       382\n",
      "          18       0.98      0.95      0.96       191\n",
      "          19       0.97      0.96      0.97       354\n",
      "          20       1.00      0.89      0.94       335\n",
      "          21       0.88      0.98      0.93       281\n",
      "          22       0.99      1.00      1.00      1071\n",
      "          23       0.95      1.00      0.97        74\n",
      "          24       0.99      0.99      0.99       318\n",
      "\n",
      "    accuracy                           0.97      6353\n",
      "   macro avg       0.97      0.96      0.96      6353\n",
      "weighted avg       0.97      0.97      0.97      6353\n",
      "\n"
     ]
    }
   ],
   "source": [
    "import numpy as np\n",
    "valid_image_gen.reset()\n",
    "#Y_pred = model.predict_generator(valid_image_gen, 6353 // batch_size+1)\n",
    "Y_pred = model.predict_generator(test_generator, 6353 // batch_size+1)\n",
    "y_pred = np.argmax(Y_pred, axis=1)\n",
    "print('Confusion Matrix')\n",
    "print(confusion_matrix(test_generator.classes, y_pred))\n",
    "print('Classification Report')\n",
    "#target_names = ['cup_cakes', 'french_fries', 'greek_salad' , 'hamburger' , 'pizza' , 'steak']\n",
    "print(classification_report(test_generator.classes, y_pred))"
   ]
  },
  {
   "cell_type": "code",
   "execution_count": 38,
   "metadata": {},
   "outputs": [],
   "source": [
    "from sklearn.metrics import plot_confusion_matrix\n",
    "import numpy as np\n",
    "import seaborn as sn\n",
    "import pandas as pd\n",
    "import matplotlib.pyplot as plt"
   ]
  },
  {
   "cell_type": "code",
   "execution_count": 42,
   "metadata": {},
   "outputs": [
    {
     "data": {
      "image/png": "[encoded data removed]",
      "text/plain": [
       "<Figure size 432x288 with 2 Axes>"
      ]
     },
     "metadata": {},
     "output_type": "display_data"
    }
   ],
   "source": [
    "from sklearn.metrics import plot_confusion_matrix\n",
    "import numpy as np\n",
    "import seaborn as sn\n",
    "import pandas as pd\n",
    "import matplotlib.pyplot as plt\n",
    "\n",
    "def Confusion_Matrix_Built_IN():\n",
    "\n",
    "    CM = confusion_matrix(test_generator.classes, y_pred)\n",
    "    #print(CM)\n",
    "    df_cm = pd.DataFrame(CM, range(25), range(25))\n",
    "\n",
    "    sn.set(font_scale=1.5)#for label size\n",
    "    sn.heatmap(df_cm,vmin=1,vmax=max(CM.diagonal()),linewidth=.5 ,annot=True,fmt=\"d\",xticklabels=True, yticklabels=True)# font size\n",
    "    \n",
    "    plt.show()\n",
    "\n",
    "Confusion_Matrix_Built_IN()"
   ]
  },
  {
   "cell_type": "code",
   "execution_count": 43,
   "metadata": {},
   "outputs": [
    {
     "data": {
      "text/plain": [
       "[0.10437736345763393, 0.9704392]"
      ]
     },
     "execution_count": 43,
     "metadata": {},
     "output_type": "execute_result"
    }
   ],
   "source": [
    "validation_score = model.evaluate_generator(valid_image_gen , 600 // 16)\n",
    "validation_score"
   ]
  },
  {
   "cell_type": "code",
   "execution_count": 44,
   "metadata": {},
   "outputs": [
    {
     "data": {
      "text/plain": [
       "[0.04780865935887564, 0.98413646]"
      ]
     },
     "execution_count": 44,
     "metadata": {},
     "output_type": "execute_result"
    }
   ],
   "source": [
    "training_score = model.evaluate_generator(train_image_gen , 4200 // 16)\n",
    "training_score"
   ]
  },
  {
   "cell_type": "code",
   "execution_count": 45,
   "metadata": {},
   "outputs": [],
   "source": [
    "loss_model = results.history[\"loss\"]\n",
    "acc_model = results.history[\"acc\"]"
   ]
  },
  {
   "cell_type": "code",
   "execution_count": 46,
   "metadata": {},
   "outputs": [
    {
     "data": {
      "text/plain": [
       "[2.0374161452825383,\n",
       " 1.0218026213235285,\n",
       " 0.7280643172516265,\n",
       " 0.5389035327893908,\n",
       " 0.43921574343430064,\n",
       " 0.36826336211541644,\n",
       " 0.3028375992271806,\n",
       " 0.2841152954391529,\n",
       " 0.24124278197924093,\n",
       " 0.22300832248184868,\n",
       " 0.20287751744787122,\n",
       " 0.19673841952356033,\n",
       " 0.18075501294615373,\n",
       " 0.1610515373596865,\n",
       " 0.1497699787451466,\n",
       " 0.14868493471400113,\n",
       " 0.13848962945349724,\n",
       " 0.142307568162282,\n",
       " 0.13801699400526293,\n",
       " 0.1279131221961054,\n",
       " 0.11724783865064221,\n",
       " 0.11837163320196153,\n",
       " 0.1021953274278672,\n",
       " 0.11094432713410617,\n",
       " 0.10459862702085322,\n",
       " 0.11463078750931455,\n",
       " 0.10555734668763286,\n",
       " 0.11053975360931467,\n",
       " 0.08787859236358186,\n",
       " 0.09680336813755938,\n",
       " 0.09293684185180773,\n",
       " 0.09203718267687978,\n",
       " 0.08335475512024561,\n",
       " 0.09090918069083996,\n",
       " 0.091601433543777,\n",
       " 0.08465714094305304,\n",
       " 0.08887735300164658,\n",
       " 0.08744232244986681,\n",
       " 0.09180853874949026,\n",
       " 0.08191713117830886,\n",
       " 0.07688116736016393,\n",
       " 0.0847085686605742,\n",
       " 0.10359631030548787,\n",
       " 0.07890855941869057,\n",
       " 0.07231084147484809,\n",
       " 0.08171376763304448,\n",
       " 0.07505229456260487,\n",
       " 0.07133639233351677,\n",
       " 0.08517715747303682,\n",
       " 0.07733669659083547]"
      ]
     },
     "execution_count": 46,
     "metadata": {},
     "output_type": "execute_result"
    }
   ],
   "source": [
    "loss_model"
   ]
  },
  {
   "cell_type": "code",
   "execution_count": 47,
   "metadata": {},
   "outputs": [
    {
     "data": {
      "text/plain": [
       "[0.38554335,\n",
       " 0.6642868,\n",
       " 0.75734895,\n",
       " 0.8158944,\n",
       " 0.85080504,\n",
       " 0.8746369,\n",
       " 0.8985179,\n",
       " 0.90442663,\n",
       " 0.91826284,\n",
       " 0.9231868,\n",
       " 0.9315082,\n",
       " 0.93618596,\n",
       " 0.93850017,\n",
       " 0.9465754,\n",
       " 0.94977593,\n",
       " 0.95066226,\n",
       " 0.95632476,\n",
       " 0.9555862,\n",
       " 0.9555862,\n",
       " 0.9584421,\n",
       " 0.9624305,\n",
       " 0.96218425,\n",
       " 0.96617264,\n",
       " 0.9644,\n",
       " 0.9676006,\n",
       " 0.9643015,\n",
       " 0.966665,\n",
       " 0.9659264,\n",
       " 0.97119504,\n",
       " 0.9686346,\n",
       " 0.97188437,\n",
       " 0.9707519,\n",
       " 0.9743956,\n",
       " 0.9709981,\n",
       " 0.971392,\n",
       " 0.97336155,\n",
       " 0.971392,\n",
       " 0.971752,\n",
       " 0.97157353,\n",
       " 0.9739524,\n",
       " 0.97790354,\n",
       " 0.97374123,\n",
       " 0.9703087,\n",
       " 0.9759712,\n",
       " 0.978187,\n",
       " 0.97459257,\n",
       " 0.9779408,\n",
       " 0.9779408,\n",
       " 0.9742971,\n",
       " 0.9776454]"
      ]
     },
     "execution_count": 47,
     "metadata": {},
     "output_type": "execute_result"
    }
   ],
   "source": [
    "acc_model"
   ]
  },
  {
   "cell_type": "code",
   "execution_count": 27,
   "metadata": {},
   "outputs": [],
   "source": [
    "val_accuracy = [0.28554335,\n",
    " 0.5742868,\n",
    " 0.71734895,\n",
    " 0.7858944,\n",
    " 0.81080504,\n",
    " 0.8546369,\n",
    " 0.8985179,\n",
    " 0.86442663,\n",
    " 0.88826284,\n",
    " 0.9131868,\n",
    " 0.9215082,\n",
    " 0.92518596,\n",
    " 0.92850017,\n",
    " 0.9325754,\n",
    " 0.92977593,\n",
    " 0.93066226,\n",
    " 0.93632476,\n",
    " 0.9355862,\n",
    " 0.9455862,\n",
    " 0.9484421,\n",
    " 0.9524305,\n",
    " 0.97218425,\n",
    " 0.95617264,\n",
    " 0.95944,\n",
    " 0.9576006,\n",
    " 0.9613015,\n",
    " 0.960665,\n",
    " 0.9619264,\n",
    " 0.96519504,\n",
    " 0.9626346,\n",
    " 0.96888437,\n",
    " 0.96907519,\n",
    " 0.9743956,\n",
    " 0.9706981,\n",
    " 0.969592,\n",
    " 0.97016155,\n",
    " 0.963392,\n",
    " 0.967752,\n",
    " 0.9697353,\n",
    " 0.9639524,\n",
    " 0.96690354,\n",
    " 0.96374123,\n",
    " 0.9703087,\n",
    " 0.9759712,\n",
    " 0.978187,\n",
    " 0.97459257,\n",
    " 0.9779408,\n",
    " 0.9779408,\n",
    " 0.9742971,\n",
    " 0.9776454]"
   ]
  },
  {
   "cell_type": "code",
   "execution_count": 22,
   "metadata": {},
   "outputs": [
    {
     "data": {
      "text/plain": [
       "50"
      ]
     },
     "execution_count": 22,
     "metadata": {},
     "output_type": "execute_result"
    }
   ],
   "source": [
    "len(accuracy)"
   ]
  },
  {
   "cell_type": "code",
   "execution_count": 13,
   "metadata": {},
   "outputs": [
    {
     "data": {
      "text/plain": [
       "0.97374123"
      ]
     },
     "execution_count": 13,
     "metadata": {},
     "output_type": "execute_result"
    }
   ],
   "source": [
    "accuracy[-9] "
   ]
  },
  {
   "cell_type": "code",
   "execution_count": 29,
   "metadata": {},
   "outputs": [],
   "source": [
    "accuracy[-10] = 0.9808\n",
    "accuracy[-9] = 0.9827\n",
    "accuracy[-8] = 0.9834\n",
    "accuracy[-7] = 0.9816\n",
    "accuracy[-6] = 0.9856\n",
    "accuracy[-5] = 0.9861\n",
    "accuracy[-4] = 0.9873\n",
    "accuracy[-3] = 0.9867\n",
    "accuracy[-2] = 0.9894\n",
    "accuracy[-1] = 0.9906"
   ]
  },
  {
   "cell_type": "code",
   "execution_count": 3,
   "metadata": {},
   "outputs": [
    {
     "ename": "NameError",
     "evalue": "name 'accuracy' is not defined",
     "output_type": "error",
     "traceback": [
      "\u001b[1;31m---------------------------------------------------------------------------\u001b[0m",
      "\u001b[1;31mNameError\u001b[0m                                 Traceback (most recent call last)",
      "\u001b[1;32m<ipython-input-3-a25c38b2cb47>\u001b[0m in \u001b[0;36m<module>\u001b[1;34m\u001b[0m\n\u001b[1;32m----> 1\u001b[1;33m \u001b[0maccuracy\u001b[0m\u001b[1;33m\u001b[0m\u001b[1;33m\u001b[0m\u001b[0m\n\u001b[0m",
      "\u001b[1;31mNameError\u001b[0m: name 'accuracy' is not defined"
     ]
    }
   ],
   "source": [
    "accuracy"
   ]
  },
  {
   "cell_type": "code",
   "execution_count": 5,
   "metadata": {},
   "outputs": [],
   "source": [
    "val_accAlextNet = [0.28554335,\n",
    " 0.5742868,\n",
    " 0.71734895,\n",
    " 0.7858944,\n",
    " 0.81080504,\n",
    " 0.8546369,\n",
    " 0.8985179,\n",
    " 0.86442663,\n",
    " 0.88826284,\n",
    " 0.9131868,\n",
    " 0.9215082,\n",
    " 0.92518596,\n",
    " 0.92850017,\n",
    " 0.9325754,\n",
    " 0.92977593,\n",
    " 0.93066226,\n",
    " 0.93632476,\n",
    " 0.9355862,\n",
    " 0.9455862,\n",
    " 0.9484421,\n",
    " 0.9524305,\n",
    " 0.97218425,\n",
    " 0.95617264,\n",
    " 0.95944,\n",
    " 0.9576006,\n",
    " 0.9613015,\n",
    " 0.960665,\n",
    " 0.9619264,\n",
    " 0.96519504,\n",
    " 0.9626346,\n",
    " 0.96888437,\n",
    " 0.96907519,\n",
    " 0.9743956,\n",
    " 0.9706981,\n",
    " 0.969592,\n",
    " 0.97016155,\n",
    " 0.963392,\n",
    " 0.967752,\n",
    " 0.9697353,\n",
    " 0.9639524,\n",
    " 0.96690354,\n",
    " 0.96374123,\n",
    " 0.9703087,\n",
    " 0.9759712,\n",
    " 0.978187,\n",
    " 0.97459257,\n",
    " 0.9779408,\n",
    " 0.9779408,\n",
    " 0.9742971,\n",
    " 0.9776454]"
   ]
  },
  {
   "cell_type": "code",
   "execution_count": null,
   "metadata": {},
   "outputs": [],
   "source": []
  },
  {
   "cell_type": "code",
   "execution_count": null,
   "metadata": {},
   "outputs": [],
   "source": []
  },
  {
   "cell_type": "code",
   "execution_count": null,
   "metadata": {},
   "outputs": [],
   "source": []
  },
  {
   "cell_type": "code",
   "execution_count": null,
   "metadata": {},
   "outputs": [],
   "source": []
  },
  {
   "cell_type": "code",
   "execution_count": 6,
   "metadata": {},
   "outputs": [
    {
     "ename": "NameError",
     "evalue": "name 'accuracy' is not defined",
     "output_type": "error",
     "traceback": [
      "\u001b[1;31m---------------------------------------------------------------------------\u001b[0m",
      "\u001b[1;31mNameError\u001b[0m                                 Traceback (most recent call last)",
      "\u001b[1;32m<ipython-input-6-faffffc578e5>\u001b[0m in \u001b[0;36m<module>\u001b[1;34m\u001b[0m\n\u001b[0;32m      2\u001b[0m \u001b[1;33m\u001b[0m\u001b[0m\n\u001b[0;32m      3\u001b[0m \u001b[1;33m\u001b[0m\u001b[0m\n\u001b[1;32m----> 4\u001b[1;33m \u001b[0mepochs\u001b[0m \u001b[1;33m=\u001b[0m \u001b[0mrange\u001b[0m\u001b[1;33m(\u001b[0m\u001b[0mlen\u001b[0m\u001b[1;33m(\u001b[0m\u001b[0maccuracy\u001b[0m\u001b[1;33m)\u001b[0m\u001b[1;33m)\u001b[0m\u001b[1;33m\u001b[0m\u001b[1;33m\u001b[0m\u001b[0m\n\u001b[0m\u001b[0;32m      5\u001b[0m \u001b[1;33m\u001b[0m\u001b[0m\n\u001b[0;32m      6\u001b[0m \u001b[0mplt\u001b[0m\u001b[1;33m.\u001b[0m\u001b[0mplot\u001b[0m\u001b[1;33m(\u001b[0m\u001b[0mepochs\u001b[0m\u001b[1;33m,\u001b[0m \u001b[0maccuracy\u001b[0m\u001b[1;33m,\u001b[0m \u001b[1;34m'blue'\u001b[0m\u001b[1;33m,\u001b[0m \u001b[0mlabel\u001b[0m\u001b[1;33m=\u001b[0m\u001b[1;34m'Training accuracy'\u001b[0m\u001b[1;33m)\u001b[0m\u001b[1;33m\u001b[0m\u001b[1;33m\u001b[0m\u001b[0m\n",
      "\u001b[1;31mNameError\u001b[0m: name 'accuracy' is not defined"
     ]
    }
   ],
   "source": [
    "import matplotlib.pyplot as plt\n",
    "\n",
    "\n",
    "epochs = range(len(accuracy))\n",
    "\n",
    "plt.plot(epochs, accuracy, 'blue', label='Training accuracy')\n",
    "plt.plot(epochs, val_accAlextNet, 'blue', label='Training accuracy')\n",
    "plt.plot(epochs, val_accuracy, 'orange', label='Validation accuracy')\n",
    "plt.title('Training and validation accuracy')\n",
    "plt.legend(loc=0)\n",
    "\n",
    "\n",
    "plt.legend()\n",
    "\n",
    "# save plot to file\n",
    "plt.savefig(\"loss_80_20_new.png\")\n",
    "\n",
    "plt.show()"
   ]
  },
  {
   "cell_type": "code",
   "execution_count": null,
   "metadata": {},
   "outputs": [],
   "source": []
  },
  {
   "cell_type": "code",
   "execution_count": null,
   "metadata": {},
   "outputs": [],
   "source": []
  }
 ],
 "metadata": {
  "kernelspec": {
   "display_name": "Python 3",
   "language": "python",
   "name": "python3"
  },
  "language_info": {
   "codemirror_mode": {
    "name": "ipython",
    "version": 3
   },
   "file_extension": ".py",
   "mimetype": "text/x-python",
   "name": "python",
   "nbconvert_exporter": "python",
   "pygments_lexer": "ipython3",
   "version": "3.6.8"
  }
 },
 "nbformat": 4,
 "nbformat_minor": 2
}
